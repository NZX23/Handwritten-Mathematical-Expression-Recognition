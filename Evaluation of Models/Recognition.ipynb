{
 "cells": [
  {
   "cell_type": "markdown",
   "metadata": {},
   "source": [
    "# Tesseract 4"
   ]
  },
  {
   "cell_type": "markdown",
   "metadata": {},
   "source": [
    "from here on, can essentially feed these images into a trained model for testing\n",
    "\n",
    "several options for trained OCR models:\n",
    "- tesseract 4\n",
    "- just train one frm scratch reference here https://github.com/quangnhat185/Plate_detect_and_recognize/blob/master/%5BPart%203%5DTrain_license_character_recognition.ipynb"
   ]
  },
  {
   "cell_type": "markdown",
   "metadata": {},
   "source": [
    "Page segmentation modes\n",
    "There are several ways a page of text can be analysed. The tesseract api provides several page segmentation modes if you want to run OCR on only a small region or in different orientations, etc.\n",
    "\n",
    "Here's a list of the supported page segmentation modes by tesseract -\n",
    "\n",
    "- 0    Orientation and script detection (OSD) only.\n",
    "- 1    Automatic page segmentation with OSD.\n",
    "- 2    Automatic page segmentation, but no OSD, or OCR.\n",
    "- 3    Fully automatic page segmentation, but no OSD. (Default)\n",
    "- 4    Assume a single column of text of variable sizes.\n",
    "- 5    Assume a single uniform block of vertically aligned text.\n",
    "- 6    Assume a single uniform block of text.\n",
    "- 7    Treat the image as a single text line.\n",
    "- 8    Treat the image as a single word.\n",
    "- 9    Treat the image as a single word in a circle.\n",
    "- 10    Treat the image as a single character.\n",
    "- 11    Sparse text. Find as much text as possible in no particular order.\n",
    "- 12    Sparse text with OSD.\n",
    "- 13    Raw line. Treat the image as a single text line, bypassing hacks that are Tesseract-specific."
   ]
  },
  {
   "cell_type": "markdown",
   "metadata": {},
   "source": [
    "### Advice:\n",
    "\"take a dataset and design a simple experiment to evaluate the performance.\"\n",
    "\n",
    "\n",
    "Note - The language specified first to the -l parameter is the primary language.\n",
    "\n",
    "so will be trying out different chars on the different modes of Tesseract"
   ]
  },
  {
   "cell_type": "code",
   "execution_count": 1,
   "metadata": {
    "scrolled": true
   },
   "outputs": [],
   "source": [
    "import cv2\n",
    "import pytesseract as tess\n",
    "import pytesseract\n",
    "from pytesseract import Output"
   ]
  },
  {
   "cell_type": "code",
   "execution_count": 2,
   "metadata": {},
   "outputs": [
    {
     "name": "stdout",
     "output_type": "stream",
     "text": [
      "psm mode: 4\n",
      "\f",
      "\n",
      "psm mode: 5\n",
      "He\n",
      "\f",
      "\n",
      "psm mode: 6\n",
      "⊊∅≜\n",
      "\f",
      "\n",
      "psm mode: 7\n",
      "⊊∑≜\n",
      "\f",
      "\n",
      "psm mode: 8\n",
      "⊊∑≜\n",
      "\f",
      "\n",
      "psm mode: 9\n",
      "4\n",
      "\f",
      "\n",
      "psm mode: 10\n",
      "⇎\n",
      "\f",
      "\n",
      "psm mode: 11\n",
      "\f",
      "\n",
      "psm mode: 12\n",
      "\f",
      "\n",
      "psm mode: 13\n",
      "⊊∅≜\n",
      "\f",
      "\n"
     ]
    }
   ],
   "source": [
    "file = 'C:\\\\Users\\\\ngzhe\\\\Desktop\\\\CY2001-Research\\\\generatedimgs/2ndtrychar0.png'\n",
    "\n",
    "img = cv2.imread(file)\n",
    "#h, w, _ = img.shape\n",
    "\n",
    "for i in range(4,14):\n",
    "    print('psm mode: ' + str(i))\n",
    "    custom_config = r'-l equ+eng --psm '+str(i)\n",
    "    print(pytesseract.image_to_string(img, config=custom_config))"
   ]
  },
  {
   "cell_type": "markdown",
   "metadata": {},
   "source": [
    "From observation, either 10 (although recognised wrongly), or 6 (but more than 1 char), or 13 is best"
   ]
  },
  {
   "cell_type": "code",
   "execution_count": 4,
   "metadata": {},
   "outputs": [
    {
     "name": "stdout",
     "output_type": "stream",
     "text": [
      "psm mode: 4\n",
      "\f",
      "\n",
      "psm mode: 5\n",
      "He\n",
      "\f",
      "\n",
      "psm mode: 6\n",
      "⊊∅≜\n",
      "\f",
      "\n",
      "psm mode: 7\n",
      "⊊∑≜\n",
      "\f",
      "\n",
      "psm mode: 8\n",
      "⊊∑≜\n",
      "\f",
      "\n",
      "psm mode: 9\n",
      "4\n",
      "\f",
      "\n",
      "psm mode: 10\n",
      "⇎\n",
      "\f",
      "\n",
      "psm mode: 11\n",
      "\f",
      "\n",
      "psm mode: 12\n",
      "\f",
      "\n",
      "psm mode: 13\n",
      "⊊∅≜\n",
      "\f",
      "\n"
     ]
    }
   ],
   "source": [
    "file = 'C:\\\\Users\\\\ngzhe\\\\Desktop\\\\CY2001-Research\\\\generatedimgs\\\\2ndtrychar0.png'\n",
    "\n",
    "img = cv2.imread(file)\n",
    "#h, w, _ = img.shape\n",
    "\n",
    "for i in range(4,14):\n",
    "    print('psm mode: ' + str(i))\n",
    "    custom_config = r'-l equ+eng --psm '+str(i)\n",
    "    print(pytesseract.image_to_string(img, config=custom_config))"
   ]
  },
  {
   "cell_type": "markdown",
   "metadata": {},
   "source": [
    "# Trying with different images\n",
    "\n",
    "<div>\n",
    "    \n",
    "    \n",
    "<img src=\"generatedimgs/segmented_characters(7).png\" width=\"300\"/>\n",
    "\n",
    "</div>"
   ]
  },
  {
   "cell_type": "code",
   "execution_count": 6,
   "metadata": {
    "scrolled": true
   },
   "outputs": [
    {
     "name": "stdout",
     "output_type": "stream",
     "text": [
      "psm mode: 4\n",
      "\f",
      "\n",
      "psm mode: 5\n",
      "∖⇂∕\n",
      "∾∿\n",
      "\n",
      "∕⊻\n",
      "\n",
      "∕∅∕\n",
      "\f",
      "\n",
      "psm mode: 6\n",
      "⊊∑≶∁ ⊭∕↴⊂∕∃\n",
      "\f",
      "\n",
      "psm mode: 7\n",
      "⊊∑≶∁ ⊭∕↴⊂∕∃\n",
      "\f",
      "\n",
      "psm mode: 8\n",
      "⊊∑≶∊⊃⊂∕∃\n",
      "\f",
      "\n",
      "psm mode: 9\n",
      "⊊∑≶∊⊃⊂∕∃\n",
      "\f",
      "\n",
      "psm mode: 10\n",
      "⇝\n",
      "\f",
      "\n",
      "psm mode: 11\n",
      "⊊∑≶∁ ⊭∕↴⊂∕∃\n",
      "\f",
      "\n",
      "psm mode: 12\n",
      "⊊∑≶∁ ⊭∕↴⊂∕∃\n",
      "\f",
      "\n",
      "psm mode: 13\n",
      "⊊∃≶⇤∕∃\n",
      "\f",
      "\n"
     ]
    }
   ],
   "source": [
    "file = 'C:\\\\Users\\\\ngzhe\\\\Desktop\\\\CY2001-Research\\\\generatedimgs\\\\segmented_characters(7).png'\n",
    "\n",
    "img = cv2.imread(file)\n",
    "#h, w, _ = img.shape\n",
    "\n",
    "for i in range(4,14):\n",
    "    print('psm mode: ' + str(i))\n",
    "    custom_config = r'-l equ --psm '+str(i)\n",
    "    print(pytesseract.image_to_string(img, config=custom_config))"
   ]
  },
  {
   "cell_type": "markdown",
   "metadata": {},
   "source": [
    "<div>\n",
    "<img src=\"generatedimgs/segmented_characters(8).png\" width=\"300\"/>\n",
    "    <div/>"
   ]
  },
  {
   "cell_type": "code",
   "execution_count": 7,
   "metadata": {
    "scrolled": true
   },
   "outputs": [
    {
     "name": "stdout",
     "output_type": "stream",
     "text": [
      "psm mode: 4\n",
      "\f",
      "\n",
      "psm mode: 5\n",
      "∖∣∕\n",
      "∙∕∨∣∎⋯∙\n",
      "∕⊻\n",
      "∕⊕∕\n",
      "\f",
      "\n",
      "psm mode: 6\n",
      "\f",
      "\n",
      "psm mode: 7\n",
      "⊊⊅∊↾↗⋎⇩⊃\n",
      "\f",
      "\n",
      "psm mode: 8\n",
      "⊊⊅∊↾↗⋎⇩⊃\n",
      "\f",
      "\n",
      "psm mode: 9\n",
      "⊊⊅∊↾↗⋎⇩⊃\n",
      "\f",
      "\n",
      "psm mode: 10\n",
      "↭\n",
      "\f",
      "\n",
      "psm mode: 11\n",
      "⊊⊅∊↾↗⋎⇩⊃\n",
      "\f",
      "\n",
      "psm mode: 12\n",
      "⊊⊅∊↾↗⋎⇩⊃\n",
      "\f",
      "\n",
      "psm mode: 13\n",
      "⊊⊅∊↾↗⋎⇩⊃\n",
      "\f",
      "\n"
     ]
    }
   ],
   "source": [
    "file = 'C:\\\\Users\\\\ngzhe\\\\Desktop\\\\CY2001-Research\\\\generatedimgs\\\\segmented_characters(8).png'\n",
    "\n",
    "img = cv2.imread(file)\n",
    "#h, w, _ = img.shape\n",
    "\n",
    "for i in range(4,14):\n",
    "    print('psm mode: ' + str(i))\n",
    "    custom_config = r'-l equ --psm '+str(i)\n",
    "    print(pytesseract.image_to_string(img, config=custom_config))"
   ]
  },
  {
   "cell_type": "markdown",
   "metadata": {},
   "source": [
    "# Expression 2"
   ]
  },
  {
   "cell_type": "markdown",
   "metadata": {},
   "source": [
    "<div>\n",
    "    <img src=\"generatedimgs/expression2.png\" width=\"500\"/>\n",
    "</div>"
   ]
  },
  {
   "cell_type": "markdown",
   "metadata": {},
   "source": [
    "## With equ + eng"
   ]
  },
  {
   "cell_type": "code",
   "execution_count": 5,
   "metadata": {
    "scrolled": true
   },
   "outputs": [
    {
     "name": "stdout",
     "output_type": "stream",
     "text": [
      "psm mode: 4\n",
      "4g £S x 'F\n",
      "\f",
      "\n",
      "psm mode: 5\n",
      "chk\n",
      "ne\n",
      "x\n",
      "v2)\n",
      "+\\\n",
      "Fn)\n",
      "ct\n",
      "\f",
      "\n",
      "psm mode: 6\n",
      "4g £S x 'F\n",
      "\f",
      "\n",
      "psm mode: 7\n",
      "4g £S x 'F\n",
      "\f",
      "\n",
      "psm mode: 8\n",
      "4g tS xb}\n",
      "\f",
      "\n",
      "psm mode: 9\n",
      "4g tS xb}\n",
      "\f",
      "\n",
      "psm mode: 10\n",
      "4g £S x 'F\n",
      "\f",
      "\n",
      "psm mode: 11\n",
      "4g £S x 'F\n",
      "\f",
      "\n",
      "psm mode: 12\n",
      "4g £S x 'F\n",
      "\f",
      "\n",
      "psm mode: 13\n",
      "4g tS xb}\n",
      "\f",
      "\n"
     ]
    }
   ],
   "source": [
    "file = 'C:\\\\Users\\\\ngzhe\\\\Desktop\\\\CY2001-Research\\\\generatedimgs\\\\expression2.png'\n",
    "\n",
    "img = cv2.imread(file)\n",
    "#h, w, _ = img.shape\n",
    "\n",
    "for i in range(4,14):\n",
    "    print('psm mode: ' + str(i))\n",
    "    custom_config = r'-l eng+equ --psm '+str(i)\n",
    "    print(pytesseract.image_to_string(img, config=custom_config))"
   ]
  },
  {
   "cell_type": "markdown",
   "metadata": {},
   "source": [
    "## With equ only"
   ]
  },
  {
   "cell_type": "code",
   "execution_count": 4,
   "metadata": {
    "scrolled": true
   },
   "outputs": [
    {
     "name": "stdout",
     "output_type": "stream",
     "text": [
      "psm mode: 4\n",
      "↗−⊢⋛≤⊐↳⋡≲ ≻≺↳↱∶≱\n",
      "\f",
      "\n",
      "psm mode: 5\n",
      "↷∣⊤\n",
      "≀≮⊤\n",
      "√∧\n",
      "↗∖∪\n",
      "↾∶\n",
      "↼⋁⋀∪\n",
      "↗⊥∣\n",
      "\f",
      "\n",
      "psm mode: 6\n",
      "↗−⊢⋛≤⊐↳⋡≲ ≻≺↳↱∶≱\n",
      "\f",
      "\n",
      "psm mode: 7\n",
      "↗−⊢⋛≤⊐↳⋡≲ ≻≺↳↱∶≱\n",
      "\f",
      "\n",
      "psm mode: 8\n",
      "↗−⊢⋛≤⊐↳⋡≲≻≺↳↱∶≱\n",
      "\f",
      "\n",
      "psm mode: 9\n",
      "\f",
      "\n",
      "psm mode: 10\n",
      "⋯\n",
      "\f",
      "\n",
      "psm mode: 11\n",
      "↗−⊢⋛≤⊐↳⋡≲ ≻≺↳↱∶≱\n",
      "\f",
      "\n",
      "psm mode: 12\n",
      "↗−⊢⋛≤⊐↳⋡≲ ≻≺↳↱∶≱\n",
      "\f",
      "\n",
      "psm mode: 13\n",
      "↗−⊢⋛≤⊣∶↙≲≻≺↳↱∶≱\n",
      "\f",
      "\n"
     ]
    }
   ],
   "source": [
    "file = 'C:\\\\Users\\\\ngzhe\\\\Desktop\\\\CY2001-Research\\\\generatedimgs\\\\expression2.png'\n",
    "\n",
    "img = cv2.imread(file)\n",
    "#h, w, _ = img.shape\n",
    "\n",
    "for i in range(4,14):\n",
    "    print('psm mode: ' + str(i))\n",
    "    custom_config = r'-l equ --psm '+str(i)\n",
    "    print(pytesseract.image_to_string(img, config=custom_config))"
   ]
  },
  {
   "cell_type": "markdown",
   "metadata": {},
   "source": [
    "## With eng only"
   ]
  },
  {
   "cell_type": "code",
   "execution_count": 5,
   "metadata": {
    "scrolled": true
   },
   "outputs": [
    {
     "name": "stdout",
     "output_type": "stream",
     "text": [
      "psm mode: 4\n",
      "4g £S x 'F\n",
      "\f",
      "\n",
      "psm mode: 5\n",
      "chk\n",
      "ne\n",
      "x\n",
      "v2)\n",
      "+\\\n",
      "Fn)\n",
      "ct\n",
      "\f",
      "\n",
      "psm mode: 6\n",
      "4g £S x 'F\n",
      "\f",
      "\n",
      "psm mode: 7\n",
      "4g £S x 'F\n",
      "\f",
      "\n",
      "psm mode: 8\n",
      "4g tS xb}\n",
      "\f",
      "\n",
      "psm mode: 9\n",
      "4g tS xb}\n",
      "\f",
      "\n",
      "psm mode: 10\n",
      "4g £S x 'F\n",
      "\f",
      "\n",
      "psm mode: 11\n",
      "4g £S x 'F\n",
      "\f",
      "\n",
      "psm mode: 12\n",
      "4g £S x 'F\n",
      "\f",
      "\n",
      "psm mode: 13\n",
      "4g tS xb}\n",
      "\f",
      "\n"
     ]
    }
   ],
   "source": [
    "file = 'C:\\\\Users\\\\ngzhe\\\\Desktop\\\\CY2001-Research\\\\generatedimgs\\\\expression2.png'\n",
    "\n",
    "img = cv2.imread(file)\n",
    "#h, w, _ = img.shape\n",
    "\n",
    "for i in range(4,14):\n",
    "    print('psm mode: ' + str(i))\n",
    "    custom_config = r'-l eng --psm '+str(i)\n",
    "    print(pytesseract.image_to_string(img, config=custom_config))"
   ]
  },
  {
   "cell_type": "code",
   "execution_count": null,
   "metadata": {},
   "outputs": [],
   "source": []
  },
  {
   "cell_type": "markdown",
   "metadata": {},
   "source": [
    "### Let's try finetuning Tesseract?\n",
    "\n",
    "Nope, try https://github.com/Narsil/seshat"
   ]
  },
  {
   "cell_type": "markdown",
   "metadata": {},
   "source": [
    "# Results \n",
    "\n",
    "Using https://github.com/kahne/fastwer to evaluate OCR output, namely **Character Error Rate (CER)** and **Word Error Rate**\n",
    "\n",
    "https://towardsdatascience.com/evaluating-ocr-output-quality-with-character-error-rate-cer-and-word-error-rate-wer-853175297510"
   ]
  },
  {
   "cell_type": "code",
   "execution_count": 8,
   "metadata": {},
   "outputs": [],
   "source": [
    "import fastwer\n",
    "import os\n",
    "import numpy as np\n",
    "import pandas as pd\n",
    "import matplotlib.pyplot as plt"
   ]
  },
  {
   "cell_type": "markdown",
   "metadata": {},
   "source": [
    "## Manually Labelling Groundtruth\n",
    "\n",
    "groundtruth (psm 13)\n",
    "- ∅(x)\n",
    "- 78±5×47\n",
    "\n"
   ]
  },
  {
   "cell_type": "code",
   "execution_count": 14,
   "metadata": {
    "scrolled": true
   },
   "outputs": [
    {
     "name": "stdout",
     "output_type": "stream",
     "text": [
      "P(x |\n",
      "\f",
      "\n",
      "cer is 116.6667\n",
      "wer is 200.0\n"
     ]
    }
   ],
   "source": [
    "file = 'C:\\\\Users\\\\ngzhe\\\\Desktop\\\\CY2001-Research\\\\generatedimgs\\\\segmented_characters(7).png'\n",
    "ref = '∅(x)'\n",
    "\n",
    "img = cv2.imread(file)\n",
    "\n",
    "custom_config = r'-l eng --psm 13'\n",
    "output = pytesseract.image_to_string(img, config=custom_config)\n",
    "print(output)\n",
    "\n",
    "cer = fastwer.score_sent(output, ref, char_level=True)\n",
    "wer = fastwer.score_sent(output, ref, char_level=False)\n",
    "\n",
    "print(\"cer is \" + str(cer))\n",
    "print(\"wer is \" + str(wer))"
   ]
  },
  {
   "cell_type": "code",
   "execution_count": 15,
   "metadata": {},
   "outputs": [
    {
     "name": "stdout",
     "output_type": "stream",
     "text": [
      "4g tS xb}\n",
      "\f",
      "\n",
      "cer is 122.2222\n",
      "wer is 300.0\n"
     ]
    }
   ],
   "source": [
    "file = 'C:\\\\Users\\\\ngzhe\\\\Desktop\\\\CY2001-Research\\\\generatedimgs\\\\expression2.png'\n",
    "ref = '78±5×47'\n",
    "\n",
    "img = cv2.imread(file)\n",
    "\n",
    "custom_config = r'-l eng --psm 13'\n",
    "output = pytesseract.image_to_string(img, config=custom_config)\n",
    "print(output)\n",
    "\n",
    "cer = fastwer.score_sent(output, ref, char_level=True)\n",
    "wer = fastwer.score_sent(output, ref, char_level=False)\n",
    "\n",
    "print(\"cer is \" + str(cer))\n",
    "print(\"wer is \" + str(wer))"
   ]
  },
  {
   "cell_type": "markdown",
   "metadata": {},
   "source": [
    "# seshat"
   ]
  },
  {
   "cell_type": "code",
   "execution_count": 9,
   "metadata": {},
   "outputs": [
    {
     "name": "stdout",
     "output_type": "stream",
     "text": [
      "cer is 0.0\n",
      "wer is 0.0\n",
      "cer is 0.0\n",
      "wer is 0.0\n"
     ]
    }
   ],
   "source": [
    "#/file = 'C:\\\\Users\\\\ngzhe\\\\Desktop\\\\CY2001-Research\\\\generatedimgs\\\\segmented_characters(7).png'\n",
    "ref = '∅(x)'\n",
    "\n",
    "output = '∅(x)'\n",
    "\n",
    "cer = fastwer.score_sent(output, ref, char_level=True)\n",
    "wer = fastwer.score_sent(output, ref, char_level=False)\n",
    "\n",
    "print(\"cer is \" + str(cer))\n",
    "print(\"wer is \" + str(wer))\n",
    "\n",
    "\n",
    "cer = fastwer.score_sent(output, ref, char_level=True)\n",
    "wer = fastwer.score_sent(output, ref, char_level=False)\n",
    "\n",
    "print(\"cer is \" + str(cer))\n",
    "print(\"wer is \" + str(wer))"
   ]
  },
  {
   "cell_type": "code",
   "execution_count": 10,
   "metadata": {},
   "outputs": [
    {
     "name": "stdout",
     "output_type": "stream",
     "text": [
      "cer is 22.2222\n",
      "wer is 100.0\n",
      "cer is 22.2222\n",
      "wer is 100.0\n"
     ]
    }
   ],
   "source": [
    "ref = '78±5×47'\n",
    "\n",
    "output = '78±5x47'\n",
    "\n",
    "cer = fastwer.score_sent(output, ref, char_level=True)\n",
    "wer = fastwer.score_sent(output, ref, char_level=False)\n",
    "\n",
    "print(\"cer is \" + str(cer))\n",
    "print(\"wer is \" + str(wer))\n",
    "\n",
    "\n",
    "cer = fastwer.score_sent(output, ref, char_level=True)\n",
    "wer = fastwer.score_sent(output, ref, char_level=False)\n",
    "\n",
    "print(\"cer is \" + str(cer))\n",
    "print(\"wer is \" + str(wer))"
   ]
  },
  {
   "cell_type": "code",
   "execution_count": null,
   "metadata": {},
   "outputs": [],
   "source": []
  },
  {
   "cell_type": "code",
   "execution_count": null,
   "metadata": {},
   "outputs": [],
   "source": []
  },
  {
   "cell_type": "code",
   "execution_count": null,
   "metadata": {},
   "outputs": [],
   "source": []
  }
 ],
 "metadata": {
  "kernelspec": {
   "display_name": "Python 3",
   "language": "python",
   "name": "python3"
  },
  "language_info": {
   "codemirror_mode": {
    "name": "ipython",
    "version": 3
   },
   "file_extension": ".py",
   "mimetype": "text/x-python",
   "name": "python",
   "nbconvert_exporter": "python",
   "pygments_lexer": "ipython3",
   "version": "3.8.5"
  }
 },
 "nbformat": 4,
 "nbformat_minor": 4
}
