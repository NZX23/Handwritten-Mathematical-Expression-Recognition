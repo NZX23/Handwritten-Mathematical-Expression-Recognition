{
 "cells": [
  {
   "cell_type": "code",
   "execution_count": 1,
   "metadata": {},
   "outputs": [],
   "source": [
    "import numpy as np\n",
    "import pyeeg as pe\n",
    "import pickle as pickle\n",
    "import pandas as pd\n",
    "import math\n",
    "\n",
    "from sklearn import svm\n",
    "from sklearn.preprocessing import normalize\n",
    "from sklearn.model_selection import train_test_split"
   ]
  },
  {
   "cell_type": "code",
   "execution_count": 2,
   "metadata": {},
   "outputs": [
    {
     "name": "stdout",
     "output_type": "stream",
     "text": [
      "(10848, 310, 310, 3)\n",
      "(10848, 53)\n"
     ]
    }
   ],
   "source": [
    "image_data = np.load(open('CROHME2016_img_data.npy','rb'),allow_pickle=True)\n",
    "\n",
    "groundtruth = np.load(open('CROHME2016_groundtruth.npy','rb'),allow_pickle=True)\n",
    "\n",
    "print(image_data.shape)\n",
    "print(groundtruth.shape)"
   ]
  },
  {
   "cell_type": "markdown",
   "metadata": {},
   "source": [
    "# Train Test Split"
   ]
  },
  {
   "cell_type": "code",
   "execution_count": 3,
   "metadata": {},
   "outputs": [],
   "source": [
    "x_train, x_test, y_train, y_test = train_test_split(image_data, groundtruth, test_size=0.20, random_state=23)"
   ]
  },
  {
   "cell_type": "code",
   "execution_count": 4,
   "metadata": {},
   "outputs": [
    {
     "name": "stdout",
     "output_type": "stream",
     "text": [
      "(8678, 310, 310, 3) (2170, 310, 310, 3) (8678, 53) (2170, 53)\n"
     ]
    }
   ],
   "source": [
    "print(x_train.shape, x_test.shape, y_train.shape, y_test.shape)"
   ]
  },
  {
   "cell_type": "markdown",
   "metadata": {},
   "source": [
    "# One Hot Encoding"
   ]
  },
  {
   "cell_type": "code",
   "execution_count": null,
   "metadata": {},
   "outputs": [],
   "source": [
    "# from keras.utils import to_categorical\n",
    "# y_train = to_categorical(y_train)\n",
    "# y_test = to_categorical(y_test)"
   ]
  },
  {
   "cell_type": "code",
   "execution_count": null,
   "metadata": {
    "scrolled": true
   },
   "outputs": [],
   "source": [
    "# print(y_train.shape)\n",
    "# print(y_test.shape)"
   ]
  },
  {
   "cell_type": "code",
   "execution_count": null,
   "metadata": {},
   "outputs": [],
   "source": [
    "#want to append (2170, 53, 5) to y_test\n",
    "#initialise it entierely with 0s\n",
    "\n",
    "# a = np.zeros(shape=(2170, 53, 5))"
   ]
  },
  {
   "cell_type": "code",
   "execution_count": 17,
   "metadata": {
    "scrolled": true
   },
   "outputs": [],
   "source": [
    "# print(x_train.shape)\n",
    "# print(x_test.shape)\n",
    "\n",
    "# print(y_train.shape)\n",
    "# print(y_test.shape)"
   ]
  },
  {
   "cell_type": "code",
   "execution_count": null,
   "metadata": {},
   "outputs": [],
   "source": [
    "# x_train = x_train.reshape(x_train.shape[0],x_train.shape[1],x_train.shape[2],x_train.shape[3])\n",
    "# x_test = x_test.reshape(x_test.shape[0],x_test.shape[1],x_test.shape[2],x_test.shape[3])\n",
    "\n",
    "# print(x_train.shape)"
   ]
  },
  {
   "cell_type": "code",
   "execution_count": null,
   "metadata": {
    "scrolled": true
   },
   "outputs": [],
   "source": [
    "# #so its still not reshaped la..\n",
    "# y_train = np.transpose(y_train, (0, 2, 1))\n",
    "# print(y_train.shape)\n",
    "\n",
    "# y_test = np.transpose(y_test, (0, 2, 1))\n",
    "# print(y_test.shape)"
   ]
  },
  {
   "cell_type": "markdown",
   "metadata": {},
   "source": [
    "# The Keras Model"
   ]
  },
  {
   "cell_type": "markdown",
   "metadata": {},
   "source": [
    "## Hyperparameters"
   ]
  },
  {
   "cell_type": "code",
   "execution_count": 5,
   "metadata": {},
   "outputs": [],
   "source": [
    "batch_size = 32 #256\n",
    "epochs = 40#80"
   ]
  },
  {
   "cell_type": "code",
   "execution_count": 6,
   "metadata": {},
   "outputs": [],
   "source": [
    "#num_classes = 9381\n",
    "#based off number of unique vocab words"
   ]
  },
  {
   "cell_type": "code",
   "execution_count": 7,
   "metadata": {},
   "outputs": [],
   "source": [
    "num_classes = 53\n",
    "\n",
    "#based off max len of sequence (post padded)"
   ]
  },
  {
   "cell_type": "markdown",
   "metadata": {},
   "source": [
    "Ok so theres some confusion between input shape and model input shape\n",
    "\n",
    "input_shape **does not contain the batch size**, while batch_input_shape is the full input shape including the batch size.\n",
    "\n",
    "input shape would be (310, 310, 3, 1)\n",
    "batch input shape would be (8678, 310, 310, 3, 1)\n",
    "\n",
    "But  LSTM layer is a recurrent layer, hence **it expects a 3-dimensional input (batch_size, timesteps, input_dim)**"
   ]
  },
  {
   "cell_type": "code",
   "execution_count": null,
   "metadata": {},
   "outputs": [],
   "source": [
    "#x_train_extended = x_train.reshape(x_train.shape[0],x_train.shape[1]*x_train.shape[2]*x_train.shape[3], 1)"
   ]
  },
  {
   "cell_type": "code",
   "execution_count": null,
   "metadata": {},
   "outputs": [],
   "source": [
    "#x_test_extended = x_test.reshape(x_test.shape[0],x_test.shape[1]*x_test.shape[2]*x_test.shape[3], 1)"
   ]
  },
  {
   "cell_type": "code",
   "execution_count": null,
   "metadata": {},
   "outputs": [],
   "source": [
    "# print(x_train_extended.shape)\n",
    "# print(x_test_extended.shape)"
   ]
  },
  {
   "cell_type": "code",
   "execution_count": null,
   "metadata": {
    "scrolled": true
   },
   "outputs": [],
   "source": [
    "# model_input = (x_train_extended.shape[1], 1)\n",
    "# print(model_input)\n",
    "\n",
    "# #without batch size"
   ]
  },
  {
   "cell_type": "code",
   "execution_count": 17,
   "metadata": {},
   "outputs": [
    {
     "name": "stdout",
     "output_type": "stream",
     "text": [
      "(8678, 310, 310, 3)\n",
      "(2170, 310, 310, 3)\n",
      "(8678, 53)\n",
      "(2170, 53)\n"
     ]
    }
   ],
   "source": [
    "print(x_train.shape)\n",
    "print(x_test.shape)\n",
    "\n",
    "print(y_train.shape)\n",
    "print(y_test.shape)"
   ]
  },
  {
   "cell_type": "markdown",
   "metadata": {},
   "source": [
    "# THE MODEL"
   ]
  },
  {
   "cell_type": "code",
   "execution_count": 8,
   "metadata": {},
   "outputs": [],
   "source": [
    "import keras,os\n",
    "from keras.models import Sequential\n",
    "from keras.layers import Dense, Conv1D, Conv2D, MaxPool2D , Flatten, Dropout\n",
    "from keras.layers import Convolution1D, ZeroPadding1D, MaxPooling1D, BatchNormalization, Activation, Dropout, Flatten, Dense\n",
    "from keras.regularizers import l2\n",
    "from keras.preprocessing.image import ImageDataGenerator\n",
    "import numpy as np"
   ]
  },
  {
   "cell_type": "code",
   "execution_count": 9,
   "metadata": {
    "scrolled": false
   },
   "outputs": [
    {
     "name": "stdout",
     "output_type": "stream",
     "text": [
      "Model: \"sequential\"\n",
      "_________________________________________________________________\n",
      "Layer (type)                 Output Shape              Param #   \n",
      "=================================================================\n",
      "conv2d (Conv2D)              (None, 308, 308, 32)      896       \n",
      "_________________________________________________________________\n",
      "activation (Activation)      (None, 308, 308, 32)      0         \n",
      "_________________________________________________________________\n",
      "max_pooling2d (MaxPooling2D) (None, 154, 154, 32)      0         \n",
      "_________________________________________________________________\n",
      "conv2d_1 (Conv2D)            (None, 152, 152, 32)      9248      \n",
      "_________________________________________________________________\n",
      "activation_1 (Activation)    (None, 152, 152, 32)      0         \n",
      "_________________________________________________________________\n",
      "max_pooling2d_1 (MaxPooling2 (None, 76, 76, 32)        0         \n",
      "_________________________________________________________________\n",
      "conv2d_2 (Conv2D)            (None, 74, 74, 64)        18496     \n",
      "_________________________________________________________________\n",
      "activation_2 (Activation)    (None, 74, 74, 64)        0         \n",
      "_________________________________________________________________\n",
      "batch_normalization (BatchNo (None, 74, 74, 64)        256       \n",
      "_________________________________________________________________\n",
      "max_pooling2d_2 (MaxPooling2 (None, 37, 37, 64)        0         \n",
      "_________________________________________________________________\n",
      "flatten (Flatten)            (None, 87616)             0         \n",
      "_________________________________________________________________\n",
      "dense (Dense)                (None, 128)               11214976  \n",
      "_________________________________________________________________\n",
      "activation_3 (Activation)    (None, 128)               0         \n",
      "_________________________________________________________________\n",
      "batch_normalization_1 (Batch (None, 128)               512       \n",
      "_________________________________________________________________\n",
      "dropout (Dropout)            (None, 128)               0         \n",
      "_________________________________________________________________\n",
      "dense_1 (Dense)              (None, 53)                6837      \n",
      "=================================================================\n",
      "Total params: 11,251,221\n",
      "Trainable params: 11,250,837\n",
      "Non-trainable params: 384\n",
      "_________________________________________________________________\n"
     ]
    }
   ],
   "source": [
    "from keras.models import Sequential\n",
    "from keras.layers import Conv2D, MaxPooling2D\n",
    "from keras.layers import Activation, Dropout, Flatten, Dense\n",
    "\n",
    "model = Sequential()\n",
    "model.add(Conv2D(32, (3, 3), input_shape=(310, 310, 3)))\n",
    "model.add(Activation('relu'))\n",
    "model.add(MaxPooling2D(pool_size=(2, 2)))\n",
    "\n",
    "model.add(Conv2D(32, (3, 3)))\n",
    "model.add(Activation('tanh'))\n",
    "model.add(MaxPooling2D(pool_size=(2, 2)))\n",
    "\n",
    "model.add(Conv2D(64, (3, 3)))\n",
    "model.add(Activation('tanh'))\n",
    "model.add(BatchNormalization())\n",
    "model.add(MaxPooling2D(pool_size=(2, 2)))\n",
    "\n",
    "model.add(Flatten())  # this converts our 3D feature maps to 1D feature vectors\n",
    "model.add(Dense(128))\n",
    "model.add(Activation('relu'))\n",
    "model.add(BatchNormalization())\n",
    "\n",
    "model.add(Dropout(0.5))\n",
    "model.add(Dense(num_classes, activation='softmax'))\n",
    "#model.add(Activation('sigmoid'))\n",
    "\n",
    "model.summary()"
   ]
  },
  {
   "cell_type": "code",
   "execution_count": 10,
   "metadata": {},
   "outputs": [],
   "source": [
    "# # load weights\n",
    "# model.load_weights(\"keras_model2.hdf5\")\n",
    "\n",
    "epochs = 10"
   ]
  },
  {
   "cell_type": "code",
   "execution_count": 11,
   "metadata": {},
   "outputs": [],
   "source": [
    "model.compile(loss=keras.losses.categorical_crossentropy,\n",
    "              optimizer='adam',\n",
    "              metrics=['accuracy'])\n",
    "\n",
    "from keras import backend as K\n",
    "K.set_value(model.optimizer.learning_rate, 0.0001)"
   ]
  },
  {
   "cell_type": "code",
   "execution_count": 12,
   "metadata": {},
   "outputs": [],
   "source": [
    "from keras.callbacks import EarlyStopping\n",
    "es = EarlyStopping(monitor='val_loss', mode='min', verbose=1, patience=50)"
   ]
  },
  {
   "cell_type": "code",
   "execution_count": 13,
   "metadata": {
    "scrolled": true
   },
   "outputs": [
    {
     "name": "stdout",
     "output_type": "stream",
     "text": [
      "WARNING:tensorflow:`period` argument is deprecated. Please use `save_freq` to specify the frequency in number of batches seen.\n",
      "Epoch 1/10\n",
      "272/272 [==============================] - ETA: 0s - loss: 226527.8281 - accuracy: 0.0582\n",
      "Epoch 00001: accuracy improved from -inf to 0.05819, saving model to keras_model4.hdf5\n",
      "272/272 [==============================] - 762s 3s/step - loss: 226527.8281 - accuracy: 0.0582 - val_loss: 258161.5469 - val_accuracy: 0.0198\n",
      "Epoch 2/10\n",
      "272/272 [==============================] - ETA: 0s - loss: 227034.0000 - accuracy: 0.0772\n",
      "Epoch 00002: accuracy improved from 0.05819 to 0.07721, saving model to keras_model4.hdf5\n",
      "272/272 [==============================] - 1391s 5s/step - loss: 227034.0000 - accuracy: 0.0772 - val_loss: 6308003.5000 - val_accuracy: 0.0207\n",
      "Epoch 3/10\n",
      "272/272 [==============================] - ETA: 0s - loss: 235539.7344 - accuracy: 0.0882\n",
      "Epoch 00003: accuracy improved from 0.07721 to 0.08815, saving model to keras_model4.hdf5\n",
      "272/272 [==============================] - 754s 3s/step - loss: 235539.7344 - accuracy: 0.0882 - val_loss: 20185716.0000 - val_accuracy: 0.0336\n",
      "Epoch 4/10\n",
      "272/272 [==============================] - ETA: 0s - loss: 245977.5938 - accuracy: 0.0871\n",
      "Epoch 00004: accuracy did not improve from 0.08815\n",
      "272/272 [==============================] - 714s 3s/step - loss: 245977.5938 - accuracy: 0.0871 - val_loss: 351479.3125 - val_accuracy: 0.0424\n",
      "Epoch 5/10\n",
      "272/272 [==============================] - ETA: 0s - loss: 259813.7812 - accuracy: 0.0992\n",
      "Epoch 00005: accuracy improved from 0.08815 to 0.09922, saving model to keras_model4.hdf5\n",
      "272/272 [==============================] - 776s 3s/step - loss: 259813.7812 - accuracy: 0.0992 - val_loss: 310031.5625 - val_accuracy: 0.0364\n",
      "Epoch 6/10\n",
      "272/272 [==============================] - ETA: 0s - loss: 285814.5625 - accuracy: 0.1045\n",
      "Epoch 00006: accuracy improved from 0.09922 to 0.10452, saving model to keras_model4.hdf5\n",
      "272/272 [==============================] - 751s 3s/step - loss: 285814.5625 - accuracy: 0.1045 - val_loss: 4568328.0000 - val_accuracy: 0.0000e+00\n",
      "Epoch 7/10\n",
      "272/272 [==============================] - ETA: 0s - loss: 317016.6875 - accuracy: 0.1155\n",
      "Epoch 00007: accuracy improved from 0.10452 to 0.11546, saving model to keras_model4.hdf5\n",
      "272/272 [==============================] - 727s 3s/step - loss: 317016.6875 - accuracy: 0.1155 - val_loss: 27087220.0000 - val_accuracy: 0.0359\n",
      "Epoch 8/10\n",
      "272/272 [==============================] - ETA: 0s - loss: 356163.9375 - accuracy: 0.1171\n",
      "Epoch 00008: accuracy improved from 0.11546 to 0.11708, saving model to keras_model4.hdf5\n",
      "272/272 [==============================] - 739s 3s/step - loss: 356163.9375 - accuracy: 0.1171 - val_loss: 3550285.7500 - val_accuracy: 0.0000e+00\n",
      "Epoch 9/10\n",
      "272/272 [==============================] - ETA: 0s - loss: 398471.5312 - accuracy: 0.1173\n",
      "Epoch 00009: accuracy improved from 0.11708 to 0.11731, saving model to keras_model4.hdf5\n",
      "272/272 [==============================] - 722s 3s/step - loss: 398471.5312 - accuracy: 0.1173 - val_loss: 5538448.0000 - val_accuracy: 0.0000e+00\n",
      "Epoch 10/10\n",
      "272/272 [==============================] - ETA: 0s - loss: 440652.8125 - accuracy: 0.1196\n",
      "Epoch 00010: accuracy improved from 0.11731 to 0.11961, saving model to keras_model4.hdf5\n",
      "272/272 [==============================] - 756s 3s/step - loss: 440652.8125 - accuracy: 0.1196 - val_loss: 2422487.7500 - val_accuracy: 0.0221\n"
     ]
    }
   ],
   "source": [
    "from keras.callbacks import ModelCheckpoint\n",
    "from keras.models import load_model\n",
    "\n",
    "checkpoint = ModelCheckpoint(\"keras_model4.hdf5\", monitor='accuracy', verbose=1,\n",
    "    save_best_only=True, mode='auto', period=1)\n",
    "\n",
    "history = model.fit(x_train, y_train,\n",
    "          batch_size=batch_size,\n",
    "          epochs=epochs,\n",
    "          verbose=1,\n",
    "          validation_data=(x_test, y_test),\n",
    "          callbacks=[checkpoint])"
   ]
  },
  {
   "cell_type": "code",
   "execution_count": 14,
   "metadata": {},
   "outputs": [],
   "source": [
    "# from keras.models import load_model\n",
    "# model = load_model('keras_model2.hdf5')"
   ]
  },
  {
   "cell_type": "code",
   "execution_count": 15,
   "metadata": {},
   "outputs": [
    {
     "name": "stdout",
     "output_type": "stream",
     "text": [
      "68/68 [==============================] - 49s 727ms/step - loss: 2422487.7500 - accuracy: 0.0221\n",
      "Test loss: 2422487.75\n",
      "Test accuracy: 0.02211981639266014\n",
      "[2422487.75, 0.02211981639266014]\n"
     ]
    }
   ],
   "source": [
    "score = model.evaluate(x_test, y_test, verbose=1)\n",
    "print('Test loss:', score[0])\n",
    "print('Test accuracy:', score[1])\n",
    "\n",
    "print(score)"
   ]
  },
  {
   "cell_type": "code",
   "execution_count": null,
   "metadata": {},
   "outputs": [],
   "source": [
    "model.save('shapes_cnn.h5')"
   ]
  },
  {
   "cell_type": "code",
   "execution_count": null,
   "metadata": {},
   "outputs": [],
   "source": [
    "activations = activation_model.predict(img_tensor) \n",
    "first_layer_activation = activations[0]\n",
    "print(first_layer_activation.shape)"
   ]
  },
  {
   "cell_type": "code",
   "execution_count": null,
   "metadata": {},
   "outputs": [],
   "source": [
    "import matplotlib.pyplot as plt \n",
    "plt.matshow(first_layer_activation[0, :, :, 4], cmap='viridis')"
   ]
  },
  {
   "cell_type": "code",
   "execution_count": null,
   "metadata": {},
   "outputs": [],
   "source": []
  },
  {
   "cell_type": "code",
   "execution_count": null,
   "metadata": {},
   "outputs": [],
   "source": []
  },
  {
   "cell_type": "code",
   "execution_count": 16,
   "metadata": {
    "scrolled": true
   },
   "outputs": [
    {
     "name": "stdout",
     "output_type": "stream",
     "text": [
      "dict_keys(['loss', 'accuracy', 'val_loss', 'val_accuracy'])\n"
     ]
    },
    {
     "data": {
      "image/png": "[encoded data removed]",
      "text/plain": [
       "<Figure size 640x480 with 1 Axes>"
      ]
     },
     "metadata": {},
     "output_type": "display_data"
    },
    {
     "data": {
      "image/png": "[encoded data removed]",
      "text/plain": [
       "<Figure size 640x480 with 1 Axes>"
      ]
     },
     "metadata": {},
     "output_type": "display_data"
    },
    {
     "data": {
      "image/png": "[encoded data removed]",
      "text/plain": [
       "<Figure size 640x480 with 1 Axes>"
      ]
     },
     "metadata": {},
     "output_type": "display_data"
    }
   ],
   "source": [
    "# list all data in history\n",
    "import matplotlib.pyplot as plt \n",
    "\n",
    "print(history.history.keys())\n",
    "# summarize history for accuracy\n",
    "plt.plot(history.history['accuracy'])\n",
    "plt.plot(history.history['val_accuracy'])\n",
    "plt.title('model accuracy')\n",
    "plt.ylabel('accuracy')\n",
    "plt.xlabel('epoch')\n",
    "plt.legend(['train', 'test'], loc='upper left')\n",
    "plt.show()\n",
    "\n",
    "# summarize history for loss\n",
    "plt.plot(history.history['loss'])\n",
    "plt.plot(history.history['val_loss'])\n",
    "plt.title('model loss')\n",
    "plt.ylabel('loss')\n",
    "plt.xlabel('epoch')\n",
    "plt.legend(['train', 'test'], loc='upper left')\n",
    "plt.show()\n",
    "\n",
    "#trying to combine both\n",
    "plt.plot(history.history['accuracy'])\n",
    "plt.plot(history.history['val_accuracy'])\n",
    "plt.plot(history.history['loss'])\n",
    "plt.plot(history.history['val_loss'])\n",
    "plt.title(' model accuracy and loss: 80 epochs')\n",
    "plt.ylabel('accuracy/loss')\n",
    "plt.xlabel('epoch')\n",
    "plt.legend(['train_acc', 'val_acc','train_loss','val_loss'], loc='upper left')\n",
    "plt.show()"
   ]
  },
  {
   "cell_type": "markdown",
   "metadata": {},
   "source": [
    "# Visualise filters\n",
    "\n",
    "https://machinelearningmastery.com/how-to-visualize-filters-and-feature-maps-in-convolutional-neural-networks/\n",
    "\n",
    "Attempted to do so, but did not manage to get the following code to run"
   ]
  },
  {
   "cell_type": "code",
   "execution_count": 1,
   "metadata": {},
   "outputs": [],
   "source": [
    "# from keras.applications.vgg16 import VGG16\n",
    "# from matplotlib import pyplot\n",
    "# # load the model\n",
    "# #model = VGG16()\n",
    "# # retrieve weights from the second hidden layer\n",
    "# filters, biases = model.layers[1].get_weights()\n",
    "# # normalize filter values to 0-1 so we can visualize them\n",
    "# f_min, f_max = filters.min(), filters.max()\n",
    "# filters = (filters - f_min) / (f_max - f_min)\n",
    "# # plot first few filters\n",
    "# n_filters, ix = 6, 1\n",
    "# for i in range(n_filters):\n",
    "# \t# get the filter\n",
    "# \tf = filters[:, :, :, i]\n",
    "# \t# plot each channel separately\n",
    "# \tfor j in range(3):\n",
    "# \t\t# specify subplot and turn of axis\n",
    "# \t\tax = pyplot.subplot(n_filters, 3, ix)\n",
    "# \t\tax.set_xticks([])\n",
    "# \t\tax.set_yticks([])\n",
    "# \t\t# plot filter channel in grayscale\n",
    "# \t\tpyplot.imshow(f[:, :, j], cmap='gray')\n",
    "# \t\tix += 1\n",
    "# # show the figure\n",
    "# pyplot.show()"
   ]
  },
  {
   "cell_type": "code",
   "execution_count": 3,
   "metadata": {},
   "outputs": [],
   "source": [
    "# from keras.applications.vgg16 import VGG16\n",
    "# from keras.applications.vgg16 import preprocess_input\n",
    "# from keras.preprocessing.image import load_img\n",
    "# from keras.preprocessing.image import img_to_array\n",
    "# from keras.models import Model\n",
    "# from matplotlib import pyplot\n",
    "# from numpy import expand_dims"
   ]
  },
  {
   "cell_type": "code",
   "execution_count": 2,
   "metadata": {},
   "outputs": [],
   "source": [
    "# # using 001-equation000.png as an example\n",
    "\n",
    "# # redefine model to output right after the first hidden layer\n",
    "# ixs = [1, 4, 7] #based on model architecture\n",
    "# outputs = [model.layers[i].output for i in ixs]\n",
    "# model = Model(inputs=model.inputs, outputs=outputs)\n",
    "# # load the image with the required shape\n",
    "# img = load_img('2016_IMGS//001-equation000.png', target_size=(310, 310))\n",
    "# # convert the image to an array\n",
    "# img = img_to_array(img)\n",
    "# # expand dimensions so that it represents a single 'sample'\n",
    "# img = expand_dims(img, axis=0)\n",
    "# # prepare the image (e.g. scale pixel values for the vgg)\n",
    "# img = preprocess_input(img)\n",
    "# # get feature map for first hidden layer\n",
    "# feature_maps = model.predict(img)\n",
    "# # plot the output from each block\n",
    "# square = 8\n",
    "# for fmap in feature_maps:\n",
    "# \t# plot all 64 maps in an 8x8 squares\n",
    "# \tix = 1\n",
    "# \tfor _ in range(square):\n",
    "# \t\tfor _ in range(square):\n",
    "# \t\t\t# specify subplot and turn of axis\n",
    "# \t\t\tax = pyplot.subplot(square, square, ix)\n",
    "# \t\t\tax.set_xticks([])\n",
    "# \t\t\tax.set_yticks([])\n",
    "# \t\t\t# plot filter channel in grayscale\n",
    "# \t\t\tpyplot.imshow(fmap[ ix-1], cmap='gray')\n",
    "# \t\t\tix += 1\n",
    "# \t# show the figure\n",
    "# \tpyplot.show()"
   ]
  },
  {
   "cell_type": "code",
   "execution_count": null,
   "metadata": {},
   "outputs": [],
   "source": []
  }
 ],
 "metadata": {
  "kernelspec": {
   "display_name": "Python 3",
   "language": "python",
   "name": "python3"
  },
  "language_info": {
   "codemirror_mode": {
    "name": "ipython",
    "version": 3
   },
   "file_extension": ".py",
   "mimetype": "text/x-python",
   "name": "python",
   "nbconvert_exporter": "python",
   "pygments_lexer": "ipython3",
   "version": "3.8.5"
  }
 },
 "nbformat": 4,
 "nbformat_minor": 4
}
