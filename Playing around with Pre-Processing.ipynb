{
 "cells": [
  {
   "cell_type": "markdown",
   "metadata": {},
   "source": [
    "# Pre processing of InkML dataset\n",
    "\n",
    "https://github.com/RobinXL/inkml2img\n",
    "\n",
    "https://github.com/ThomasLech/CROHME_extractor\n",
    "\n",
    "https://github.com/bachelor10/recurrent-octo-sniffle\n",
    "\n",
    "Intention is to find a way to convert InkML files to images, but maintain some size normalisation\n",
    "\n",
    "this might be useful!\n",
    "\n",
    "https://sujayr91.github.io/Im2Latex/"
   ]
  },
  {
   "cell_type": "code",
   "execution_count": 3,
   "metadata": {},
   "outputs": [],
   "source": [
    "import numpy as np\n",
    "from skimage.draw import line\n",
    "from skimage.morphology import thin\n",
    "import matplotlib.pyplot as plt\n",
    "import xml.etree.ElementTree as ET\n",
    "from io import StringIO"
   ]
  },
  {
   "cell_type": "markdown",
   "metadata": {},
   "source": [
    "# InkML to IMG\n",
    "\n",
    "based on https://github.com/RobinXL/inkml2img"
   ]
  },
  {
   "cell_type": "code",
   "execution_count": 4,
   "metadata": {},
   "outputs": [],
   "source": [
    "def get_traces_data(inkml_file_abs_path, xmlns='{http://www.w3.org/2003/InkML}'):\n",
    "\n",
    "    \ttraces_data = []\n",
    "\n",
    "    \ttree = ET.parse(inkml_file_abs_path)\n",
    "    \troot = tree.getroot()\n",
    "    \t# doc_namespace = \"{http://www.w3.org/2003/InkML}\"\n",
    "    \tdoc_namespace = xmlns\n",
    "\n",
    "    \t'Stores traces_all with their corresponding id'\n",
    "    \ttraces_all = [{'id': trace_tag.get('id'),\n",
    "    \t\t\t\t\t'coords': [[round(float(axis_coord)) if float(axis_coord).is_integer() else round(float(axis_coord) * 10000) \\\n",
    "    \t\t\t\t\t\t\t\t\tfor axis_coord in coord[1:].split(' ')] if coord.startswith(' ') \\\n",
    "    \t\t\t\t\t\t\t\telse [round(float(axis_coord)) if float(axis_coord).is_integer() else round(float(axis_coord) * 10000) \\\n",
    "    \t\t\t\t\t\t\t\t\tfor axis_coord in coord.split(' ')] \\\n",
    "    \t\t\t\t\t\t\tfor coord in (trace_tag.text).replace('\\n', '').split(',')]} \\\n",
    "    \t\t\t\t\t\t\tfor trace_tag in root.findall(doc_namespace + 'trace')]\n",
    "\n",
    "    \t'Sort traces_all list by id to make searching for references faster'\n",
    "    \ttraces_all.sort(key=lambda trace_dict: int(trace_dict['id']))\n",
    "\n",
    "    \t'Always 1st traceGroup is a redundant wrapper'\n",
    "    \ttraceGroupWrapper = root.find(doc_namespace + 'traceGroup')\n",
    "\n",
    "    \tif traceGroupWrapper is not None:\n",
    "    \t\tfor traceGroup in traceGroupWrapper.findall(doc_namespace + 'traceGroup'):\n",
    "\n",
    "    \t\t\tlabel = traceGroup.find(doc_namespace + 'annotation').text\n",
    "\n",
    "    \t\t\t'traces of the current traceGroup'\n",
    "    \t\t\ttraces_curr = []\n",
    "    \t\t\tfor traceView in traceGroup.findall(doc_namespace + 'traceView'):\n",
    "\n",
    "    \t\t\t\t'Id reference to specific trace tag corresponding to currently considered label'\n",
    "    \t\t\t\ttraceDataRef = int(traceView.get('traceDataRef'))\n",
    "\n",
    "    \t\t\t\t'Each trace is represented by a list of coordinates to connect'\n",
    "    \t\t\t\tsingle_trace = traces_all[traceDataRef]['coords']\n",
    "    \t\t\t\ttraces_curr.append(single_trace)\n",
    "\n",
    "\n",
    "    \t\t\ttraces_data.append({'label': label, 'trace_group': traces_curr})\n",
    "\n",
    "    \telse:\n",
    "    \t\t'Consider Validation data that has no labels'\n",
    "    \t\t[traces_data.append({'trace_group': [trace['coords']]}) for trace in traces_all]\n",
    "\n",
    "    \treturn traces_data"
   ]
  },
  {
   "cell_type": "code",
   "execution_count": 5,
   "metadata": {},
   "outputs": [],
   "source": [
    "def convert_to_imgs(traces_data, box_size=int(100)):\n",
    "\n",
    "        patterns_enc = []\n",
    "        classes_rejected = []\n",
    "\n",
    "        for pattern in traces_data:\n",
    "\n",
    "            trace_group = pattern['trace_group']\n",
    "\n",
    "            'mid coords needed to shift the pattern'\n",
    "            min_x, min_y, max_x, max_y = get_min_coords(trace_group)\n",
    "\n",
    "            'traceGroup dimensions'\n",
    "            trace_grp_height, trace_grp_width = max_y - min_y, max_x - min_x\n",
    "\n",
    "            'shift pattern to its relative position'\n",
    "            shifted_trace_grp = shift_trace_grp(trace_group, min_x=min_x, min_y=min_y)\n",
    "\n",
    "            'Interpolates a pattern so that it fits into a box with specified size'\n",
    "            'method: LINEAR INTERPOLATION'\n",
    "            try:\n",
    "            \tinterpolated_trace_grp = interpolate(shifted_trace_grp, \\\n",
    "            \t\t\t\t\t\t\t\t\t\t trace_grp_height=trace_grp_height, trace_grp_width=trace_grp_width, box_size=box_size - 1)\n",
    "            except Exception as e:\n",
    "            \tprint(e)\n",
    "            \tprint('This data is corrupted - skipping.')\n",
    "            \tclasses_rejected.append(pattern.get('label'))\n",
    "\n",
    "            \tcontinue\n",
    "\n",
    "            'Get min, max coords once again in order to center scaled patter inside the box'\n",
    "            min_x, min_y, max_x, max_y = get_min_coords(interpolated_trace_grp)\n",
    "\n",
    "            centered_trace_grp = center_pattern(interpolated_trace_grp, max_x=max_x, max_y=max_y, box_size=box_size)\n",
    "\n",
    "            'Center scaled pattern so it fits a box with specified size'\n",
    "            pattern_drawn = draw_pattern(centered_trace_grp, box_size=box_size)\n",
    "            # Make sure that patterns are thinned (1 pixel thick)\n",
    "            pat_thinned = 1.0 - thin(1.0 - np.asarray(pattern_drawn))\n",
    "            plt.imshow(pat_thinned, cmap='gray')\n",
    "            plt.show()\n",
    "            pattern_enc = dict({'features': pat_thinned, 'label': pattern.get('label')})\n",
    "\n",
    "            # Filter classes that belong to categories selected by the user\n",
    "#             if pattern_enc.get('label') in self.classes:\n",
    "\n",
    "            patterns_enc.append(pattern_enc)\n",
    "\n",
    "        return patterns_enc, classes_rejected"
   ]
  },
  {
   "cell_type": "code",
   "execution_count": 6,
   "metadata": {},
   "outputs": [],
   "source": [
    "def get_min_coords(trace_group):\n",
    "\n",
    "    \tmin_x_coords = []\n",
    "    \tmin_y_coords = []\n",
    "    \tmax_x_coords = []\n",
    "    \tmax_y_coords = []\n",
    "\n",
    "    \tfor trace in trace_group:\n",
    "\n",
    "    \t\tx_coords = [coord[0] for coord in trace]\n",
    "    \t\ty_coords = [coord[1] for coord in trace]\n",
    "\n",
    "    \t\tmin_x_coords.append(min(x_coords))\n",
    "    \t\tmin_y_coords.append(min(y_coords))\n",
    "    \t\tmax_x_coords.append(max(x_coords))\n",
    "    \t\tmax_y_coords.append(max(y_coords))\n",
    "\n",
    "    \treturn min(min_x_coords), min(min_y_coords), max(max_x_coords), max(max_y_coords)"
   ]
  },
  {
   "cell_type": "code",
   "execution_count": 7,
   "metadata": {},
   "outputs": [],
   "source": [
    "def shift_trace_grp(trace_group, min_x, min_y):\n",
    "\n",
    "    \tshifted_trace_grp = []\n",
    "\n",
    "    \tfor trace in trace_group:\n",
    "    \t\tshifted_trace = [[coord[0] - min_x, coord[1] - min_y] for coord in trace]\n",
    "\n",
    "    \t\tshifted_trace_grp.append(shifted_trace)\n",
    "\n",
    "    \treturn shifted_trace_grp\n",
    "\n",
    "def interpolate(trace_group, trace_grp_height, trace_grp_width, box_size):\n",
    "\n",
    "    \tinterpolated_trace_grp = []\n",
    "\n",
    "    \tif trace_grp_height == 0:\n",
    "    \t\ttrace_grp_height += 1\n",
    "    \tif trace_grp_width == 0:\n",
    "    \t\ttrace_grp_width += 1\n",
    "\n",
    "    \t'' 'KEEP original size ratio' ''\n",
    "    \ttrace_grp_ratio = (trace_grp_width) / (trace_grp_height)\n",
    "\n",
    "    \tscale_factor = 1.0\n",
    "    \t'' 'Set \\\"rescale coefficient\\\" magnitude' ''\n",
    "    \tif trace_grp_ratio < 1.0:\n",
    "\n",
    "    \t\tscale_factor = (box_size / trace_grp_height)\n",
    "    \telse:\n",
    "\n",
    "    \t\tscale_factor = (box_size / trace_grp_width)\n",
    "\n",
    "    \tfor trace in trace_group:\n",
    "    \t\t'coordintes convertion to int type necessary'\n",
    "    \t\tinterpolated_trace = [[round(coord[0] * scale_factor), round(coord[1] * scale_factor)] for coord in trace]\n",
    "\n",
    "    \t\tinterpolated_trace_grp.append(interpolated_trace)\n",
    "\n",
    "    \treturn interpolated_trace_grp\n"
   ]
  },
  {
   "cell_type": "code",
   "execution_count": 8,
   "metadata": {},
   "outputs": [],
   "source": [
    "def get_min_coords(trace_group):\n",
    "\n",
    "    \tmin_x_coords = []\n",
    "    \tmin_y_coords = []\n",
    "    \tmax_x_coords = []\n",
    "    \tmax_y_coords = []\n",
    "\n",
    "    \tfor trace in trace_group:\n",
    "\n",
    "    \t\tx_coords = [coord[0] for coord in trace]\n",
    "    \t\ty_coords = [coord[1] for coord in trace]\n",
    "\n",
    "    \t\tmin_x_coords.append(min(x_coords))\n",
    "    \t\tmin_y_coords.append(min(y_coords))\n",
    "    \t\tmax_x_coords.append(max(x_coords))\n",
    "    \t\tmax_y_coords.append(max(y_coords))\n",
    "\n",
    "    \treturn min(min_x_coords), min(min_y_coords), max(max_x_coords), max(max_y_coords)\n",
    "def center_pattern(trace_group, max_x, max_y, box_size):\n",
    "\n",
    "    \tx_margin = int((box_size - max_x) / 2)\n",
    "    \ty_margin = int((box_size - max_y) / 2)\n",
    "\n",
    "    \treturn shift_trace_grp(trace_group, min_x= -x_margin, min_y= -y_margin)"
   ]
  },
  {
   "cell_type": "code",
   "execution_count": 9,
   "metadata": {},
   "outputs": [],
   "source": [
    "def draw_pattern(trace_group, box_size):\n",
    "\n",
    "    \tpattern_drawn = np.ones(shape=(box_size, box_size), dtype=np.float32)\n",
    "    \tfor trace in trace_group:\n",
    "\n",
    "    \t\t' SINGLE POINT TO DRAW '\n",
    "    \t\tif len(trace) == 1:\n",
    "    \t\t\tx_coord = trace[0][0]\n",
    "    \t\t\ty_coord = trace[0][1]\n",
    "    \t\t\tpattern_drawn[y_coord, x_coord] = 0.0\n",
    "\n",
    "    \t\telse:\n",
    "    \t\t\t' TRACE HAS MORE THAN 1 POINT '\n",
    "\n",
    "    \t\t\t'Iterate through list of traces endpoints'\n",
    "    \t\t\tfor pt_idx in range(len(trace) - 1):\n",
    "    \t\t\t\tprint (pt_idx, trace[pt_idx])\n",
    "\n",
    "    \t\t\t\t'Indices of pixels that belong to the line. May be used to directly index into an array'\n",
    "    \t\t\t\tpattern_drawn[line(r0=int(trace[pt_idx][1]), c0=int(trace[pt_idx][0]),\n",
    "    \t\t\t\t\t\t\t\t   r1=int(trace[pt_idx + 1][1]), c1=int(trace[pt_idx + 1][0]))] = 0\n",
    "\n",
    "    \treturn pattern_drawn"
   ]
  },
  {
   "cell_type": "code",
   "execution_count": 10,
   "metadata": {},
   "outputs": [],
   "source": [
    "def inkml2img(input_path, output_path, color='black'):\n",
    "    traces = get_traces_data(input_path)\n",
    "    plt.gca().invert_yaxis()\n",
    "    plt.gca().set_aspect('equal', adjustable='box')\n",
    "    plt.axes().get_xaxis().set_visible(False)\n",
    "    plt.axes().get_yaxis().set_visible(False)\n",
    "    plt.axes().spines['top'].set_visible(False)\n",
    "    plt.axes().spines['right'].set_visible(False)\n",
    "    plt.axes().spines['bottom'].set_visible(False)\n",
    "    plt.axes().spines['left'].set_visible(False)\n",
    "    for elem in traces:\n",
    "        ls = elem['trace_group']\n",
    "        for subls in ls:\n",
    "            data = np.array(subls)\n",
    "            x,y=zip(*data)\n",
    "            plt.plot(x,y,linewidth=2,c=color)\n",
    "    plt.savefig(output_path, bbox_inches='tight', dpi=100)\n",
    "    plt.gcf().clear()"
   ]
  },
  {
   "cell_type": "markdown",
   "metadata": {},
   "source": [
    "### The Main Method"
   ]
  },
  {
   "cell_type": "code",
   "execution_count": 1,
   "metadata": {},
   "outputs": [],
   "source": [
    "inputpath = 'CROHME_extractor/data/CROHME_full_v2/CROHME2011_data/CROHME_training/formulaire001-equation001.inkml'\n",
    "outputpath = 'generatedimgs/test1.png'"
   ]
  },
  {
   "cell_type": "code",
   "execution_count": 2,
   "metadata": {
    "scrolled": false
   },
   "outputs": [
    {
     "ename": "NameError",
     "evalue": "name 'inkml2img' is not defined",
     "output_type": "error",
     "traceback": [
      "\u001b[1;31m---------------------------------------------------------------------------\u001b[0m",
      "\u001b[1;31mNameError\u001b[0m                                 Traceback (most recent call last)",
      "\u001b[1;32m<ipython-input-2-19d517a91820>\u001b[0m in \u001b[0;36m<module>\u001b[1;34m\u001b[0m\n\u001b[1;32m----> 1\u001b[1;33m \u001b[0minkml2img\u001b[0m\u001b[1;33m(\u001b[0m\u001b[0minputpath\u001b[0m\u001b[1;33m,\u001b[0m \u001b[0moutputpath\u001b[0m\u001b[1;33m,\u001b[0m \u001b[0mcolor\u001b[0m\u001b[1;33m=\u001b[0m\u001b[1;34m'#284054'\u001b[0m\u001b[1;33m)\u001b[0m\u001b[1;33m\u001b[0m\u001b[1;33m\u001b[0m\u001b[0m\n\u001b[0m",
      "\u001b[1;31mNameError\u001b[0m: name 'inkml2img' is not defined"
     ]
    }
   ],
   "source": [
    "inkml2img(inputpath, outputpath, color='#284054')"
   ]
  },
  {
   "cell_type": "code",
   "execution_count": 3,
   "metadata": {},
   "outputs": [
    {
     "data": {
      "image/png": "[encoded data removed]",
      "text/plain": [
       "<IPython.core.display.Image object>"
      ]
     },
     "execution_count": 3,
     "metadata": {},
     "output_type": "execute_result"
    }
   ],
   "source": [
    "from IPython.display import Image\n",
    "Image(filename=outputpath)"
   ]
  },
  {
   "cell_type": "markdown",
   "metadata": {},
   "source": [
    "# Segmentation\n",
    "\n",
    "Adding boxes around each character\n",
    "\n",
    "Done using OpenCV\n",
    "\n",
    "Several steps:\n",
    "\n",
    "-grayscale\n",
    "\n",
    "-smooth img\n",
    "\n",
    "-adaptive threshold(?)\n",
    "\n",
    "-dialation and erosion(?)\n",
    "\n",
    "-contours\n",
    "\n",
    "for presentation, maybe can render these lor\n",
    "\n",
    "\n",
    "https://stackoverflow.com/questions/10964226/how-to-convert-an-image-into-character-segments\n",
    "\n",
    "https://github.com/quangnhat185/Plate_detect_and_recognize"
   ]
  },
  {
   "cell_type": "code",
   "execution_count": 4,
   "metadata": {},
   "outputs": [],
   "source": [
    "import cv2\n",
    "import numpy as np\n",
    "import matplotlib.pyplot as plt\n",
    "#from local_utils import detect_lp\n",
    "from os.path import splitext, basename\n",
    "from keras.models import model_from_json\n",
    "import glob\n",
    "import IPython\n",
    "#print(IPython.sys_info())\n",
    "%matplotlib inline\n",
    "from matplotlib import gridspec"
   ]
  },
  {
   "cell_type": "code",
   "execution_count": 5,
   "metadata": {},
   "outputs": [],
   "source": [
    "outputpath = 'generatedimgs/test1.png'\n",
    "\n",
    "# Load the image\n",
    "img = cv2.imread(outputpath)\n",
    "\n",
    "# convert to grayscale\n",
    "gray = cv2.cvtColor(img,cv2.COLOR_BGR2GRAY)\n",
    "\n",
    "cv2.imshow('graycsale image',gray)\n",
    "cv2.waitKey(0)\n",
    "cv2.destroyAllWindows()\n",
    "\n",
    "#no change actually hahaa"
   ]
  },
  {
   "cell_type": "code",
   "execution_count": 6,
   "metadata": {},
   "outputs": [],
   "source": [
    "# smooth the image to avoid noises\n",
    "gray = cv2.medianBlur(gray,5)\n",
    "\n",
    "cv2.imshow('smoothed image',gray)\n",
    "cv2.waitKey(0)\n",
    "cv2.destroyAllWindows()"
   ]
  },
  {
   "cell_type": "markdown",
   "metadata": {},
   "source": [
    "<div>\n",
    "<img src = 'generatedimgs/blur1.png', width=\"300\"/>\n",
    "</div>"
   ]
  },
  {
   "cell_type": "code",
   "execution_count": 12,
   "metadata": {},
   "outputs": [],
   "source": [
    "# apply some dilation and erosion to join the gaps\n",
    "thresh = cv2.dilate(gray,None,iterations = 5)\n",
    "\n",
    "cv2.imshow('dilation',gray)\n",
    "cv2.waitKey(0)\n",
    "cv2.destroyAllWindows()"
   ]
  },
  {
   "cell_type": "code",
   "execution_count": 14,
   "metadata": {},
   "outputs": [],
   "source": [
    "# apply some dilation and erosion to join the gaps\n",
    "\n",
    "thresh = cv2.erode(thresh,None,iterations = 5)\n",
    "\n",
    "cv2.imshow('erosion',thresh)\n",
    "cv2.waitKey(0)\n",
    "cv2.destroyAllWindows()"
   ]
  },
  {
   "cell_type": "code",
   "execution_count": 31,
   "metadata": {},
   "outputs": [],
   "source": [
    "# Apply adaptive threshold\n",
    "thresh = cv2.adaptiveThreshold(gray,255,1,1,11,2)\n",
    "thresh_color = cv2.cvtColor(thresh,cv2.COLOR_GRAY2BGR)\n",
    "\n",
    "cv2.imshow('thresh',thresh_color)\n",
    "cv2.waitKey(0)\n",
    "cv2.destroyAllWindows()"
   ]
  },
  {
   "cell_type": "markdown",
   "metadata": {},
   "source": [
    "<div>\n",
    "<img src = 'generatedimgs/thres1.png', width=\"300\"/>\n",
    "</div>"
   ]
  },
  {
   "cell_type": "code",
   "execution_count": 32,
   "metadata": {},
   "outputs": [],
   "source": [
    "# apply some dilation and erosion to join the gaps\n",
    "thresh = cv2.dilate(thresh,None,iterations = 5)\n",
    "thresh = cv2.erode(thresh,None,iterations = 5)\n",
    "\n",
    "cv2.imshow('thresh',thresh_color)\n",
    "cv2.waitKey(0)\n",
    "cv2.destroyAllWindows()\n",
    "\n",
    "img_nobox = thresh_color.copy()"
   ]
  },
  {
   "cell_type": "markdown",
   "metadata": {},
   "source": [
    "<div>\n",
    "<img src = 'generatedimgs/dilation1.png', width=\"300\"/>\n",
    "</div>"
   ]
  },
  {
   "cell_type": "code",
   "execution_count": 33,
   "metadata": {},
   "outputs": [],
   "source": [
    "# Find the contours\n",
    "contours,hierarchy = cv2.findContours(thresh,cv2.RETR_LIST,cv2.CHAIN_APPROX_SIMPLE)\n",
    "\n",
    "digitCnts = []\n",
    "\n",
    "# For each contour, find the bounding rectangle and draw it\n",
    "for cnt in contours:\n",
    "    x,y,w,h = cv2.boundingRect(cnt)\n",
    "    cv2.rectangle(img,(x,y),(x+w,y+h),(0,255,0),2)\n",
    "    cv2.rectangle(thresh_color,(x,y),(x+w,y+h),(0,255,0),2)\n",
    "    \n",
    "    ## if the contour is sufficiently large, it must be a digit\n",
    "    if w >= 15:\n",
    "        digitCnts.append(cnt)\n",
    "        \n",
    "img_wbox = thresh_color.copy()\n",
    "\n",
    "# Finally show the image\n",
    "cv2.imshow('img',img)\n",
    "cv2.imshow('res',thresh_color)\n",
    "cv2.waitKey(0)\n",
    "cv2.destroyAllWindows()"
   ]
  },
  {
   "cell_type": "code",
   "execution_count": 34,
   "metadata": {},
   "outputs": [],
   "source": [
    "# #saving segmented files locally\n",
    "# cv2.imwrite('generatedimgs/segmentedtest1.png', img)"
   ]
  },
  {
   "cell_type": "markdown",
   "metadata": {},
   "source": [
    "# Trying to get the right characters segmented"
   ]
  },
  {
   "attachments": {
    "image.png": {
     "image/png": "[encoded data removed]"
    }
   },
   "cell_type": "markdown",
   "metadata": {},
   "source": [
    "It creates new windows, but it appears as such:\n",
    "<div>\n",
    "<img src=\"attachment:image.png\" width=\"300\"/>\n",
    "</div>\n",
    "\n",
    "Or can try using Sobel operation to adapt so that it can be used for any image (can be tilted, on a whiteboard etc)"
   ]
  },
  {
   "cell_type": "markdown",
   "metadata": {},
   "source": [
    "## Non Maximum Supression\n",
    "\n",
    "So its ok now, succeeded and able to draw rectangles properly.\n",
    "\n",
    "But based on Prof Loke's advice, should not need to manually remove.\n",
    "\n",
    "Going to try **Non Maximum Supression**\n",
    "\n",
    "-  is a class of algorithms to select one entity (e.g., bounding boxes) out of many overlapping entities\n",
    "- taken from https://www.pyimagesearch.com/2015/02/16/faster-non-maximum-suppression-python/"
   ]
  },
  {
   "cell_type": "code",
   "execution_count": 35,
   "metadata": {},
   "outputs": [],
   "source": [
    "#boxes is a numpy array of (x,y,w,h)\n",
    "#eg np.array([\n",
    "# \t(12, 30, 76, 94),\n",
    "# \t(12, 36, 76, 100),\n",
    "# \t(72, 36, 200, 164),\n",
    "# \t(84, 48, 212, 176)])"
   ]
  },
  {
   "cell_type": "code",
   "execution_count": 12,
   "metadata": {},
   "outputs": [],
   "source": [
    "# Malisiewicz et al.\n",
    "def non_max_suppression_fast(boxes, overlapThresh):\n",
    "\t# if there are no boxes, return an empty list\n",
    "\tif len(boxes) == 0:\n",
    "\t\treturn []\n",
    "\t# if the bounding boxes integers, convert them to floats --\n",
    "\t# this is important since we'll be doing a bunch of divisions\n",
    "\tif boxes.dtype.kind == \"i\":\n",
    "\t\tboxes = boxes.astype(\"float\")\n",
    "\t# initialize the list of picked indexes\t\n",
    "\tpick = []\n",
    "\t# grab the coordinates of the bounding boxes\n",
    "\tx1 = boxes[:,0]\n",
    "\ty1 = boxes[:,1]\n",
    "\tx2 = boxes[:,2]\n",
    "\ty2 = boxes[:,3]\n",
    "\t# compute the area of the bounding boxes and sort the bounding\n",
    "\t# boxes by the bottom-right y-coordinate of the bounding box\n",
    "\tarea = (x2 - x1 + 1) * (y2 - y1 + 1)\n",
    "\tidxs = np.argsort(y2)\n",
    "\t# keep looping while some indexes still remain in the indexes\n",
    "\t# list\n",
    "\twhile len(idxs) > 0:\n",
    "\t\t# grab the last index in the indexes list and add the\n",
    "\t\t# index value to the list of picked indexes\n",
    "\t\tlast = len(idxs) - 1\n",
    "\t\ti = idxs[last]\n",
    "\t\tpick.append(i)\n",
    "\t\t# find the largest (x, y) coordinates for the start of\n",
    "\t\t# the bounding box and the smallest (x, y) coordinates\n",
    "\t\t# for the end of the bounding box\n",
    "\t\txx1 = np.maximum(x1[i], x1[idxs[:last]])\n",
    "\t\tyy1 = np.maximum(y1[i], y1[idxs[:last]])\n",
    "\t\txx2 = np.minimum(x2[i], x2[idxs[:last]])\n",
    "\t\tyy2 = np.minimum(y2[i], y2[idxs[:last]])\n",
    "\t\t# compute the width and height of the bounding box\n",
    "\t\tw = np.maximum(0, xx2 - xx1 + 1)\n",
    "\t\th = np.maximum(0, yy2 - yy1 + 1)\n",
    "\t\t# compute the ratio of overlap\n",
    "\t\toverlap = (w * h) / area[idxs[:last]]\n",
    "\t\t# delete all indexes from the index list that have\n",
    "\t\tidxs = np.delete(idxs, np.concatenate(([last],\n",
    "\t\t\tnp.where(overlap > overlapThresh)[0])))\n",
    "\t# return only the bounding boxes that were picked using the\n",
    "\t# integer data type\n",
    "\treturn boxes[pick].astype(\"int\")"
   ]
  },
  {
   "cell_type": "code",
   "execution_count": 37,
   "metadata": {},
   "outputs": [
    {
     "name": "stdout",
     "output_type": "stream",
     "text": [
      "283 167 415 238\n",
      "92 107 167 204\n",
      "34 104 120 211\n",
      "204 52 276 263\n",
      "433 42 485 309\n",
      "31 23 171 319\n"
     ]
    }
   ],
   "source": [
    "# Find the contours\n",
    "contours,hierarchy = cv2.findContours(thresh,cv2.RETR_LIST,cv2.CHAIN_APPROX_SIMPLE)\n",
    "\n",
    "digitCnts = []\n",
    "boxes = []\n",
    "\n",
    "# For each contour, find the bounding rectangle and draw it\n",
    "for cnt in contours:\n",
    "    x,y,w,h = cv2.boundingRect(cnt)\n",
    "    print(x,y,x+w,y+h)\n",
    "    cv2.rectangle(img,(x,y),(x+w,y+h),(0,255,0),2)\n",
    "    digitCnts.append(cnt)\n",
    "    \n",
    "    boxes.append(np.array([x,y,x+w,y+h]))"
   ]
  },
  {
   "cell_type": "code",
   "execution_count": 38,
   "metadata": {
    "scrolled": true
   },
   "outputs": [
    {
     "name": "stdout",
     "output_type": "stream",
     "text": [
      "6\n",
      "(222, 1, 2)\n"
     ]
    }
   ],
   "source": [
    "print(len(digitCnts))\n",
    "print(digitCnts[0].shape)"
   ]
  },
  {
   "cell_type": "code",
   "execution_count": 39,
   "metadata": {},
   "outputs": [
    {
     "name": "stdout",
     "output_type": "stream",
     "text": [
      "[array([283, 167, 415, 238]), array([ 92, 107, 167, 204]), array([ 34, 104, 120, 211]), array([204,  52, 276, 263]), array([433,  42, 485, 309]), array([ 31,  23, 171, 319])]\n"
     ]
    }
   ],
   "source": [
    "print(boxes)"
   ]
  },
  {
   "cell_type": "code",
   "execution_count": 40,
   "metadata": {},
   "outputs": [],
   "source": [
    "a1,a2,a3,a4,a5,a6 = boxes\n",
    "\n",
    "for i in range(len(boxes)):\n",
    "    newarray = np.stack(boxes, axis=0, out=None)"
   ]
  },
  {
   "cell_type": "code",
   "execution_count": 41,
   "metadata": {
    "scrolled": true
   },
   "outputs": [
    {
     "name": "stdout",
     "output_type": "stream",
     "text": [
      "[[283 167 415 238]\n",
      " [ 92 107 167 204]\n",
      " [ 34 104 120 211]\n",
      " [204  52 276 263]\n",
      " [433  42 485 309]\n",
      " [ 31  23 171 319]]\n"
     ]
    }
   ],
   "source": [
    "print(newarray)"
   ]
  },
  {
   "cell_type": "code",
   "execution_count": 42,
   "metadata": {},
   "outputs": [
    {
     "name": "stdout",
     "output_type": "stream",
     "text": [
      "after applying non-maximum,4bounding boxes\n"
     ]
    }
   ],
   "source": [
    "for cnt in digitCnts:    \n",
    "    x,y,w,h = cv2.boundingRect(cnt)\n",
    "    # perform non-maximum suppression on the bounding boxes\n",
    "    pick = non_max_suppression_fast(newarray, 0.3)\n",
    "\n",
    "print(\"after applying non-maximum,\" + str((len(pick))) + \"bounding boxes\")"
   ]
  },
  {
   "cell_type": "code",
   "execution_count": 43,
   "metadata": {},
   "outputs": [],
   "source": [
    "img_original = img_nobox.copy()\n",
    "img_nms = img_nobox.copy()"
   ]
  },
  {
   "cell_type": "code",
   "execution_count": 44,
   "metadata": {},
   "outputs": [],
   "source": [
    "for (startX, startY, endX, endY) in pick:\n",
    "    cv2.rectangle(img_nms, (startX, startY), (endX, endY), (0, 255, 0), 2)"
   ]
  },
  {
   "cell_type": "code",
   "execution_count": 45,
   "metadata": {},
   "outputs": [],
   "source": [
    "# # display the images\n",
    "# cv2.imshow(\"Original Image\", img_original)\n",
    "# cv2.imshow(\"Original Segmentation\", img_wbox)\n",
    "#cv2.imshow(\"After NMS\", img_nms)\n",
    "#cv2.waitKey(0)"
   ]
  },
  {
   "cell_type": "markdown",
   "metadata": {},
   "source": [
    "yay!:) \n",
    "\n",
    "Managed to remove overlapped boxes algorithmically, and received following comparative output:"
   ]
  },
  {
   "cell_type": "markdown",
   "metadata": {},
   "source": [
    "<div>\n",
    "<img src=\"generatedimgs/nmsprogress.png\" width=\"300\"/>\n",
    "</div>"
   ]
  },
  {
   "cell_type": "markdown",
   "metadata": {},
   "source": [
    "<div>\n",
    "<img src=\"generatedimgs/correctsegmentation.png\" width=\"300\"/>\n",
    "</div>"
   ]
  },
  {
   "cell_type": "code",
   "execution_count": 46,
   "metadata": {},
   "outputs": [],
   "source": [
    "# #convert digitCnts to np array\n",
    "\n",
    "# digitCnts = np.array(digitCnts)\n",
    "# print(digitCnts.shape)"
   ]
  },
  {
   "cell_type": "markdown",
   "metadata": {},
   "source": [
    "## [IGNORE] Removing Manually\n",
    "\n",
    "Note: Determining the appropriate width and height constraints requires a few rounds of trial and error. I would suggest looping over each of the contours, drawing them individually, and inspecting their dimensions. Doing this process ensures you can find commonalities across digit contour properties\n",
    "\n",
    "By observation, if it takes up enough space, it should be correctly identified.\n",
    "\n",
    "So the criteria becomes either w>100 or x>100 bah in this case, trial and error one\n",
    "\n",
    "**This is NOT preferable compared to NMS, so the following section of code can be, rather safely, ignored.**"
   ]
  },
  {
   "cell_type": "code",
   "execution_count": 47,
   "metadata": {},
   "outputs": [],
   "source": [
    "# #redo the process to avoid overlap\n",
    "# outputpath = 'generatedimgs/test1.png'\n",
    "\n",
    "# # Load the image\n",
    "# img2 = cv2.imread(outputpath)\n",
    "\n",
    "# # convert to grayscale\n",
    "# gray = cv2.cvtColor(img2,cv2.COLOR_BGR2GRAY)\n",
    "# # smooth the image to avoid noises\n",
    "# gray = cv2.medianBlur(gray,5)\n",
    "\n",
    "# # Apply adaptive threshold\n",
    "# thresh = cv2.adaptiveThreshold(gray,255,1,1,11,2)\n",
    "# thresh_color2 = cv2.cvtColor(thresh,cv2.COLOR_GRAY2BGR)\n",
    "\n",
    "# # apply some dilation and erosion to join the gaps\n",
    "# thresh = cv2.dilate(thresh,None,iterations = 5)\n",
    "# thresh = cv2.erode(thresh,None,iterations = 5)\n",
    "\n",
    "# # Find the contours\n",
    "# contours,hierarchy = cv2.findContours(thresh,cv2.RETR_LIST,cv2.CHAIN_APPROX_SIMPLE)"
   ]
  },
  {
   "cell_type": "code",
   "execution_count": 48,
   "metadata": {
    "scrolled": true
   },
   "outputs": [],
   "source": [
    "# # Find the contours\n",
    "# contours,hierarchy = cv2.findContours(thresh,cv2.RETR_LIST,cv2.CHAIN_APPROX_SIMPLE)\n",
    "\n",
    "# # For each contour, find the bounding rectangle and draw it\n",
    "# for cnt in contours:\n",
    "#     x,y,w,h = cv2.boundingRect(cnt)\n",
    "#     print(x,y,w,h)\n",
    "#     #print(\"success\")"
   ]
  },
  {
   "cell_type": "code",
   "execution_count": 49,
   "metadata": {},
   "outputs": [],
   "source": [
    "# digitCnts = []\n",
    "\n",
    "# # For each contour, find the bounding rectangle and draw it\n",
    "# for cnt in contours:\n",
    "#     x,y,w,h = cv2.boundingRect(cnt)\n",
    "    \n",
    "#     #syntax for cv2.rectangle: pass in top-left corner and bottom-right corner of rectangle\n",
    "#     #then pass in colour of rectangle\n",
    "#     #and thicknesS\n",
    "       \n",
    "#     if x>=100 or w >= 100 or h>150:\n",
    "#         digitCnts.append(cnt)\n",
    "        \n",
    "#         cv2.rectangle(img2,(x,y),(x+w,y+h),(0,255,0),2)\n",
    "#         cv2.rectangle(thresh_color2,(x,y),(x+w,y+h),(0,255,0),2)\n",
    "\n",
    "# # Finally show the image\n",
    "# cv2.imshow('img',img2)\n",
    "# cv2.imshow('res',thresh_color2)\n",
    "# cv2.waitKey(0)\n",
    "# cv2.destroyAllWindows()"
   ]
  },
  {
   "cell_type": "code",
   "execution_count": null,
   "metadata": {},
   "outputs": [],
   "source": []
  },
  {
   "cell_type": "markdown",
   "metadata": {},
   "source": [
    "## Isolating each digit out\n",
    "\n",
    "https://www.pyimagesearch.com/2017/02/13/recognizing-digits-with-opencv-and-python/\n",
    "\n"
   ]
  },
  {
   "cell_type": "code",
   "execution_count": 50,
   "metadata": {},
   "outputs": [
    {
     "name": "stdout",
     "output_type": "stream",
     "text": [
      "4\n"
     ]
    }
   ],
   "source": [
    "print(len(pick))"
   ]
  },
  {
   "cell_type": "code",
   "execution_count": 51,
   "metadata": {
    "scrolled": true
   },
   "outputs": [
    {
     "name": "stdout",
     "output_type": "stream",
     "text": [
      "(4, 4)\n"
     ]
    }
   ],
   "source": [
    "print(pick.shape)"
   ]
  },
  {
   "cell_type": "code",
   "execution_count": 52,
   "metadata": {
    "scrolled": false
   },
   "outputs": [
    {
     "name": "stdout",
     "output_type": "stream",
     "text": [
      "[[ 31  23 171 319]\n",
      " [433  42 485 309]\n",
      " [204  52 276 263]\n",
      " [283 167 415 238]]\n"
     ]
    }
   ],
   "source": [
    "print(pick)"
   ]
  },
  {
   "cell_type": "code",
   "execution_count": 60,
   "metadata": {},
   "outputs": [
    {
     "name": "stdout",
     "output_type": "stream",
     "text": [
      "<class 'numpy.ndarray'>\n",
      "<class 'list'>\n"
     ]
    }
   ],
   "source": [
    "print(type(pick))\n",
    "\n",
    "pick2 = np.ndarray.tolist(pick)\n",
    "print(type(pick2))"
   ]
  },
  {
   "cell_type": "code",
   "execution_count": 64,
   "metadata": {
    "scrolled": true
   },
   "outputs": [
    {
     "name": "stdout",
     "output_type": "stream",
     "text": [
      "(222, 1, 2)\n",
      "[[283 167 415 238]\n",
      " [ 92 107 167 204]\n",
      " [ 34 104 120 211]\n",
      " [204  52 276 263]\n",
      " [433  42 485 309]\n",
      " [ 31  23 171 319]]\n"
     ]
    }
   ],
   "source": [
    "print(digitCnts[0].shape)\n",
    "print(newarray)\n",
    "\n",
    "newarray2 = np.ndarray.tolist(newarray)"
   ]
  },
  {
   "cell_type": "code",
   "execution_count": 74,
   "metadata": {},
   "outputs": [
    {
     "name": "stdout",
     "output_type": "stream",
     "text": [
      "[283, 167, 415, 238]\n",
      "a is 0\n",
      "len of filtered list is 1\n",
      "[204, 52, 276, 263]\n",
      "a is 3\n",
      "len of filtered list is 2\n",
      "[433, 42, 485, 309]\n",
      "a is 4\n",
      "len of filtered list is 3\n",
      "[31, 23, 171, 319]\n",
      "a is 5\n",
      "len of filtered list is 4\n"
     ]
    }
   ],
   "source": [
    "filteredCntslist = []\n",
    "a=0 #a is the index of the Cnt list that we are going to append to filtered Cnt list\n",
    "\n",
    "for i in newarray2:\n",
    "    for j in pick2:\n",
    "        if i==j:\n",
    "            print(i)\n",
    "            print(\"a is \" + str(a))\n",
    "            filteredCntslist.append(digitCnts[a])\n",
    "            print(\"len of filtered list is \" + str(len(filteredCntslist)))\n",
    "            \n",
    "    a+=1"
   ]
  },
  {
   "cell_type": "markdown",
   "metadata": {},
   "source": [
    "So now the cnts that are in the filteredCntlist, can now put that into the sortCnt function"
   ]
  },
  {
   "cell_type": "markdown",
   "metadata": {},
   "source": [
    "# Sorting Characters Detected L to R"
   ]
  },
  {
   "cell_type": "markdown",
   "metadata": {},
   "source": [
    "need to sort the digits from left to right, just to make sure\n",
    "\n",
    "We’ll be using imutils, a series of convenience functions to make working with OpenCV + Python easier\n",
    "\n",
    "https://github.com/jrosebr1/imutils\n",
    "\n",
    "https://www.pyimagesearch.com/2015/04/20/sorting-contours-using-python-and-opencv/"
   ]
  },
  {
   "cell_type": "code",
   "execution_count": 76,
   "metadata": {
    "scrolled": true
   },
   "outputs": [
    {
     "name": "stdout",
     "output_type": "stream",
     "text": [
      "[[31, 23, 171, 319], [433, 42, 485, 309], [204, 52, 276, 263], [283, 167, 415, 238]]\n"
     ]
    }
   ],
   "source": [
    "print(pick2)\n",
    "newpick = pick2"
   ]
  },
  {
   "cell_type": "code",
   "execution_count": 77,
   "metadata": {
    "scrolled": false
   },
   "outputs": [
    {
     "name": "stdout",
     "output_type": "stream",
     "text": [
      "31 23 171 319\n",
      "<class 'numpy.ndarray'>\n",
      "(296, 140)\n",
      "433 42 485 309\n",
      "<class 'numpy.ndarray'>\n",
      "(267, 52)\n",
      "204 52 276 263\n",
      "<class 'numpy.ndarray'>\n",
      "(211, 72)\n",
      "283 167 415 238\n",
      "<class 'numpy.ndarray'>\n",
      "(71, 132)\n"
     ]
    }
   ],
   "source": [
    "# loop over each of the digits\n",
    "roilist = []\n",
    "\n",
    "for i in newpick:\n",
    "    #print(i)\n",
    "    # extract the digit ROI\n",
    "    x = i[0]\n",
    "    y = i[1]\n",
    "    w = i[2]\n",
    "    h = i[3]\n",
    "    \n",
    "    print(x,y,w,h)   \n",
    "    \n",
    "    roi = thresh[y:h, x:w]\n",
    "    roilist.append(roi)\n",
    "    \n",
    "    print(type(roi))\n",
    "    print(roi.shape)"
   ]
  },
  {
   "cell_type": "code",
   "execution_count": 78,
   "metadata": {},
   "outputs": [],
   "source": [
    "def sort_contours(cnts, method=\"left-to-right\"):\n",
    "\t# initialize the reverse flag and sort index\n",
    "\treverse = False\n",
    "\ti = 0\n",
    "\t# handle if we need to sort in reverse\n",
    "\tif method == \"right-to-left\" or method == \"bottom-to-top\":\n",
    "\t\treverse = True\n",
    "\t# handle if we are sorting against the y-coordinate rather than\n",
    "\t# the x-coordinate of the bounding box\n",
    "\tif method == \"top-to-bottom\" or method == \"bottom-to-top\":\n",
    "\t\ti = 1\n",
    "\t# construct the list of bounding boxes and sort them from top to\n",
    "\t# bottom\n",
    "\tboundingBoxes = [cv2.boundingRect(c) for c in cnts]\n",
    "\t(cnts, boundingBoxes) = zip(*sorted(zip(cnts, boundingBoxes),\n",
    "\t\tkey=lambda b:b[1][i], reverse=reverse))\n",
    "\t# return the list of sorted contours and bounding boxes\n",
    "\treturn (cnts, boundingBoxes)"
   ]
  },
  {
   "cell_type": "code",
   "execution_count": 168,
   "metadata": {},
   "outputs": [],
   "source": [
    "##FAILED ATTEMPT TO PATCH LIBRARY --IGNORE###\n",
    "\n",
    "# # import the necessary packages\n",
    "# import numpy as np\n",
    "# import argparse\n",
    "# import imutils\n",
    "# import cv2\n",
    "# def sort_contours(cnts, method=\"left-to-right\"):\n",
    "#     # initialize the reverse flag and sort index\n",
    "#     reverse = False\n",
    "#     i = 0\n",
    "#     # handle if we need to sort in reverse\n",
    "#     if method == \"right-to-left\" or method == \"bottom-to-top\":\n",
    "#         reverse = True\n",
    "#     # handle if we are sorting against the y-coordinate rather than\n",
    "#     # the x-coordinate of the bounding box\n",
    "#     if method == \"top-to-bottom\" or method == \"bottom-to-top\":\n",
    "#         i = 1\n",
    "#     # construct the list of bounding boxes and sort them from top to\n",
    "#     # bottom\n",
    "#     #boundingBoxes = [cv2.boundingRect(c) for c in cnts]\n",
    "# #     boundingBoxes = []\n",
    "# #     for (x,y,w,h) in cnts:\n",
    "# #          boundingBoxes.append(cv2.rectangle(img,(x,y),(w,h),(0,255,0),2))\n",
    "#     #boundingBoxes = [cv2.rectangle(img,(x,y),(w,h),(0,255,0),2) for (x,y,w,h) for c in cnts]\n",
    "    \n",
    "# #     (cnts, boundingBoxes) = zip(*sorted(zip(cnts, boundingBoxes),\n",
    "# #         key=lambda b:b[1][i], reverse=reverse))\n",
    "    \n",
    "#     cnts = sorted(zip(cnts), key=lambda x: x[0])\n",
    "       \n",
    "#     # return the list of sorted contours and bounding boxes\n",
    "#     return cnts#, boundingBoxes)"
   ]
  },
  {
   "cell_type": "code",
   "execution_count": 80,
   "metadata": {
    "scrolled": false
   },
   "outputs": [],
   "source": [
    "# # sort the contours from left-to-right, then initialize the\n",
    "# # actual digits themselves\n",
    "newpick = sort_contours(filteredCntslist, method=\"left-to-right\")[0]"
   ]
  },
  {
   "cell_type": "code",
   "execution_count": 82,
   "metadata": {
    "scrolled": false
   },
   "outputs": [
    {
     "name": "stdout",
     "output_type": "stream",
     "text": [
      "4\n"
     ]
    }
   ],
   "source": [
    "print(len(newpick))"
   ]
  },
  {
   "cell_type": "code",
   "execution_count": 89,
   "metadata": {},
   "outputs": [
    {
     "name": "stdout",
     "output_type": "stream",
     "text": [
      "<class 'numpy.ndarray'>\n",
      "(296, 140)\n",
      "<class 'numpy.ndarray'>\n",
      "(211, 72)\n",
      "<class 'numpy.ndarray'>\n",
      "(71, 132)\n",
      "<class 'numpy.ndarray'>\n",
      "(267, 52)\n",
      "4\n"
     ]
    }
   ],
   "source": [
    "roilist = []\n",
    "\n",
    "# loop over each of the digits\n",
    "for c in newpick:\n",
    "    # extract the digit ROI\n",
    "    (x, y, w, h) = cv2.boundingRect(c)\n",
    "    roi = thresh[y:y + h, x:x + w]\n",
    "    roilist.append(roi)\n",
    "    \n",
    "    print(type(roi))\n",
    "    print(roi.shape)\n",
    "    \n",
    "print(len(roilist))"
   ]
  },
  {
   "cell_type": "code",
   "execution_count": null,
   "metadata": {},
   "outputs": [],
   "source": []
  },
  {
   "cell_type": "markdown",
   "metadata": {},
   "source": [
    "# Compositing the Image into One Image"
   ]
  },
  {
   "cell_type": "markdown",
   "metadata": {},
   "source": [
    "Composite photography is the use or combination of two or more different images to create a new one.\n",
    "\n",
    "\n",
    "credit to https://www.geeksforgeeks.org/convert-a-numpy-array-to-an-image/ for PIL Image library\n",
    "\n",
    "and some stackoverflow thread for the display() function"
   ]
  },
  {
   "cell_type": "code",
   "execution_count": 90,
   "metadata": {
    "scrolled": true
   },
   "outputs": [
    {
     "name": "stdout",
     "output_type": "stream",
     "text": [
      "<class 'PIL.Image.Image'>\n"
     ]
    },
    {
     "data": {
      "image/png": "[encoded data removed]",
      "text/plain": [
       "<PIL.Image.Image image mode=L size=140x296 at 0x1304B44CF10>"
      ]
     },
     "metadata": {},
     "output_type": "display_data"
    },
    {
     "data": {
      "image/png": "[encoded data removed]",
      "text/plain": [
       "<PIL.Image.Image image mode=L size=72x211 at 0x1304B44CAF0>"
      ]
     },
     "metadata": {},
     "output_type": "display_data"
    },
    {
     "data": {
      "image/png": "[encoded data removed]",
      "text/plain": [
       "<PIL.Image.Image image mode=L size=132x71 at 0x1304C687880>"
      ]
     },
     "metadata": {},
     "output_type": "display_data"
    },
    {
     "data": {
      "image/png": "[encoded data removed]",
      "text/plain": [
       "<PIL.Image.Image image mode=L size=52x267 at 0x1304D9F50A0>"
      ]
     },
     "metadata": {},
     "output_type": "display_data"
    }
   ],
   "source": [
    "from PIL import Image as im\n",
    "\n",
    "data = im.fromarray(roilist[0])\n",
    "\n",
    "print(type(data))\n",
    "\n",
    "#im.open(data, mode='r')\n",
    "\n",
    "for i in range(len(roilist)):\n",
    "    data = im.fromarray(roilist[i])\n",
    "    display(data)\n",
    "    data.save('generatedimgs/4thtrychar'+str(i)+'.png')"
   ]
  },
  {
   "cell_type": "code",
   "execution_count": 91,
   "metadata": {},
   "outputs": [
    {
     "data": {
      "image/png": "[encoded data removed]",
      "text/plain": [
       "<Figure size 1008x288 with 4 Axes>"
      ]
     },
     "metadata": {
      "needs_background": "light"
     },
     "output_type": "display_data"
    }
   ],
   "source": [
    "fig = plt.figure(figsize=(14,4))\n",
    "grid = gridspec.GridSpec(ncols=len(roilist),nrows=1,figure=fig)\n",
    "\n",
    "for i in range(len(roilist)):\n",
    "    fig.add_subplot(grid[i])\n",
    "    plt.axis(False)\n",
    "    plt.imshow(im.fromarray(roilist[i]),cmap=\"gray\")\n",
    "    plt.savefig(\"generatedimgs/segmented_characters4thtry.png\",dpi=300)"
   ]
  },
  {
   "cell_type": "markdown",
   "metadata": {},
   "source": [
    "Yay! managed to get it sorted in correct order!\n",
    "\n",
    "now need to decrease the spacing between the digits"
   ]
  },
  {
   "cell_type": "code",
   "execution_count": 114,
   "metadata": {},
   "outputs": [
    {
     "data": {
      "image/png": "[encoded data removed]",
      "text/plain": [
       "<Figure size 576x288 with 4 Axes>"
      ]
     },
     "metadata": {},
     "output_type": "display_data"
    }
   ],
   "source": [
    "fig = plt.figure(figsize=(8,4))\n",
    "plt.style.use('dark_background')\n",
    "fig.set_facecolor('black')\n",
    "grid = gridspec.GridSpec(ncols=len(roilist),nrows=1,figure=fig)\n",
    "\n",
    "for i in range(len(roilist)):\n",
    "    fig.add_subplot(grid[i])\n",
    "    plt.axis(False)\n",
    "    plt.imshow(im.fromarray(roilist[i]),cmap=\"gray\", ) #aspect='auto'\n",
    "    plt.savefig(\"generatedimgs/segmented_characters(7).png\",bbox_inches='tight',dpi=500)\n",
    "    \n",
    "    #bbox_inches='tight' proved to be quite good\n"
   ]
  },
  {
   "cell_type": "markdown",
   "metadata": {},
   "source": [
    "Other configurations/variations"
   ]
  },
  {
   "cell_type": "code",
   "execution_count": 115,
   "metadata": {},
   "outputs": [
    {
     "data": {
      "image/png": "[encoded data removed]",
      "text/plain": [
       "<Figure size 576x288 with 4 Axes>"
      ]
     },
     "metadata": {},
     "output_type": "display_data"
    }
   ],
   "source": [
    "fig = plt.figure(figsize=(8,4))\n",
    "plt.style.use('dark_background')\n",
    "fig.set_facecolor('black')\n",
    "grid = gridspec.GridSpec(ncols=len(roilist),nrows=1,figure=fig)\n",
    "\n",
    "for i in range(len(roilist)):\n",
    "    fig.add_subplot(grid[i])\n",
    "    plt.axis(False)\n",
    "    plt.imshow(im.fromarray(roilist[i]),cmap=\"gray\", aspect='auto') \n",
    "    plt.savefig(\"generatedimgs/segmented_characters(8).png\",bbox_inches='tight',dpi=500)\n",
    "    \n",
    "    #bbox_inches='tight' proved to be quite good"
   ]
  },
  {
   "cell_type": "markdown",
   "metadata": {},
   "source": [
    "So trying these different variations on Tesseract\n",
    "\n",
    "# End of Pre-Processing!\n",
    "\n",
    "\n",
    "Note from Prof Loke, need try different expressions"
   ]
  },
  {
   "cell_type": "code",
   "execution_count": null,
   "metadata": {},
   "outputs": [],
   "source": []
  },
  {
   "cell_type": "markdown",
   "metadata": {},
   "source": [
    "# Trying out a New Expression"
   ]
  },
  {
   "cell_type": "code",
   "execution_count": 38,
   "metadata": {},
   "outputs": [],
   "source": [
    "inputpath = 'CROHME_extractor/data/CROHME_full_v2/CROHME2011_data/CROHME_training/formulaire001-equation015.inkml'\n",
    "outputpath = 'generatedimgs/test2.png'"
   ]
  },
  {
   "cell_type": "code",
   "execution_count": 39,
   "metadata": {
    "scrolled": false
   },
   "outputs": [
    {
     "name": "stderr",
     "output_type": "stream",
     "text": [
      "<ipython-input-10-e80d7ae14dcc>:5: MatplotlibDeprecationWarning: Adding an axes using the same arguments as a previous axes currently reuses the earlier instance.  In a future version, a new instance will always be created and returned.  Meanwhile, this warning can be suppressed, and the future behavior ensured, by passing a unique label to each axes instance.\n",
      "  plt.axes().get_xaxis().set_visible(False)\n",
      "<ipython-input-10-e80d7ae14dcc>:6: MatplotlibDeprecationWarning: Adding an axes using the same arguments as a previous axes currently reuses the earlier instance.  In a future version, a new instance will always be created and returned.  Meanwhile, this warning can be suppressed, and the future behavior ensured, by passing a unique label to each axes instance.\n",
      "  plt.axes().get_yaxis().set_visible(False)\n",
      "<ipython-input-10-e80d7ae14dcc>:7: MatplotlibDeprecationWarning: Adding an axes using the same arguments as a previous axes currently reuses the earlier instance.  In a future version, a new instance will always be created and returned.  Meanwhile, this warning can be suppressed, and the future behavior ensured, by passing a unique label to each axes instance.\n",
      "  plt.axes().spines['top'].set_visible(False)\n",
      "<ipython-input-10-e80d7ae14dcc>:8: MatplotlibDeprecationWarning: Adding an axes using the same arguments as a previous axes currently reuses the earlier instance.  In a future version, a new instance will always be created and returned.  Meanwhile, this warning can be suppressed, and the future behavior ensured, by passing a unique label to each axes instance.\n",
      "  plt.axes().spines['right'].set_visible(False)\n",
      "<ipython-input-10-e80d7ae14dcc>:9: MatplotlibDeprecationWarning: Adding an axes using the same arguments as a previous axes currently reuses the earlier instance.  In a future version, a new instance will always be created and returned.  Meanwhile, this warning can be suppressed, and the future behavior ensured, by passing a unique label to each axes instance.\n",
      "  plt.axes().spines['bottom'].set_visible(False)\n",
      "<ipython-input-10-e80d7ae14dcc>:10: MatplotlibDeprecationWarning: Adding an axes using the same arguments as a previous axes currently reuses the earlier instance.  In a future version, a new instance will always be created and returned.  Meanwhile, this warning can be suppressed, and the future behavior ensured, by passing a unique label to each axes instance.\n",
      "  plt.axes().spines['left'].set_visible(False)\n"
     ]
    },
    {
     "data": {
      "text/plain": [
       "<Figure size 432x288 with 0 Axes>"
      ]
     },
     "metadata": {},
     "output_type": "display_data"
    }
   ],
   "source": [
    "inkml2img(inputpath, outputpath, color='#284054')"
   ]
  },
  {
   "cell_type": "code",
   "execution_count": 40,
   "metadata": {},
   "outputs": [
    {
     "data": {
      "image/png": "[encoded data removed]",
      "text/plain": [
       "<IPython.core.display.Image object>"
      ]
     },
     "execution_count": 40,
     "metadata": {},
     "output_type": "execute_result"
    }
   ],
   "source": [
    "from IPython.display import Image\n",
    "Image(filename=outputpath)"
   ]
  },
  {
   "cell_type": "code",
   "execution_count": 41,
   "metadata": {},
   "outputs": [],
   "source": [
    "import cv2\n",
    "import numpy as np\n",
    "\n",
    "outputpath = 'generatedimgs/test2.png'\n",
    "\n",
    "# Load the image\n",
    "img = cv2.imread(outputpath)\n",
    "\n",
    "# convert to grayscale\n",
    "gray = cv2.cvtColor(img,cv2.COLOR_BGR2GRAY)\n",
    "\n",
    "cv2.imshow('graycsale image',gray)\n",
    "cv2.waitKey(0)\n",
    "cv2.destroyAllWindows()\n",
    "\n",
    "#no change actually hahaa"
   ]
  },
  {
   "cell_type": "code",
   "execution_count": 42,
   "metadata": {},
   "outputs": [],
   "source": [
    "# smooth the image to avoid noises\n",
    "gray = cv2.medianBlur(gray,5)\n",
    "\n",
    "cv2.imshow('smoothed image',gray)\n",
    "cv2.waitKey(0)\n",
    "cv2.destroyAllWindows()"
   ]
  },
  {
   "cell_type": "code",
   "execution_count": 43,
   "metadata": {},
   "outputs": [],
   "source": [
    "thresh = cv2.adaptiveThreshold(gray,255,1,1,11,2)\n",
    "thresh_color = cv2.cvtColor(thresh,cv2.COLOR_GRAY2BGR)\n",
    "\n",
    "cv2.imshow('thresh',thresh_color)\n",
    "cv2.waitKey(0)\n",
    "cv2.destroyAllWindows()\n",
    "\n",
    "thresh = cv2.adaptiveThreshold(gray,255,1,1,11,2)\n",
    "\n",
    "thresh_color = cv2.cvtColor(thresh,cv2.COLOR_GRAY2BGR)\n",
    "cv2.imshow('thresh',thresh_color)\n",
    "cv2.waitKey(0)\n",
    "cv2.destroyAllWindows()\n",
    "\n",
    "# apply some dilation and erosion to join the gaps\n",
    "thresh = cv2.dilate(thresh,None,iterations = 5)\n",
    "thresh = cv2.erode(thresh,None,iterations = 5)\n",
    "cv2.imshow('thresh',thresh_color)\n",
    "cv2.waitKey(0)\n",
    "cv2.destroyAllWindows()\n",
    "\n",
    "#img_nobox = thresh_color.copy()\n",
    "\n",
    "\n",
    "contours,hierarchy = cv2.findContours(thresh,cv2.RETR_LIST,cv2.CHAIN_APPROX_SIMPLE)\n",
    "digitCnts = []\n",
    "\n",
    "# For each contour, find the bounding rectangle and draw it\n",
    "for cnt in contours:\n",
    "    x,y,w,h = cv2.boundingRect(cnt)\n",
    "    cv2.rectangle(img,(x,y),(x+w,y+h),(0,255,0),2)\n",
    "    cv2.rectangle(thresh_color,(x,y),(x+w,y+h),(0,255,0),2)\n",
    "    ## if the contour is sufficiently large, it must be a digit\n",
    "    if w >= 15:\n",
    "        digitCnts.append(cnt)\n",
    "\n",
    "img_wbox = thresh_color.copy()\n",
    "\n",
    "# Finally show the image\n",
    "cv2.imshow('img',img)\n",
    "cv2.imshow('res',thresh_color)\n",
    "cv2.waitKey(0)\n",
    "cv2.destroyAllWindows()"
   ]
  },
  {
   "cell_type": "code",
   "execution_count": 44,
   "metadata": {
    "scrolled": true
   },
   "outputs": [
    {
     "data": {
      "text/plain": [
       "True"
      ]
     },
     "execution_count": 44,
     "metadata": {},
     "output_type": "execute_result"
    }
   ],
   "source": [
    "# #saving segmented files locally\n",
    "cv2.imwrite('generatedimgs/segmentedtest2.png', img)"
   ]
  },
  {
   "cell_type": "code",
   "execution_count": 45,
   "metadata": {},
   "outputs": [
    {
     "name": "stdout",
     "output_type": "stream",
     "text": [
      "after applying non-maximum,7bounding boxes\n"
     ]
    }
   ],
   "source": [
    "contours,hierarchy = cv2.findContours(thresh,cv2.RETR_LIST,cv2.CHAIN_APPROX_SIMPLE)\n",
    "\n",
    "digitCnts = []\n",
    "boxes = []\n",
    "\n",
    "# For each contour, find the bounding rectangle and draw it\n",
    "for cnt in contours:\n",
    "    x,y,w,h = cv2.boundingRect(cnt)\n",
    "    #print(x,y,x+w,y+h)\n",
    "    cv2.rectangle(img,(x,y),(x+w,y+h),(0,255,0),2)\n",
    "    digitCnts.append(cnt)\n",
    "    \n",
    "    boxes.append(np.array([x,y,x+w,y+h]))\n",
    "\n",
    "# Find the contours\n",
    "contours,hierarchy = cv2.findContours(thresh,cv2.RETR_LIST,cv2.CHAIN_APPROX_SIMPLE)\n",
    "\n",
    "digitCnts = []\n",
    "\n",
    "boxes = []\n",
    "\n",
    "# For each contour, find the bounding rectangle and draw it\n",
    "for cnt in contours:\n",
    "    x,y,w,h = cv2.boundingRect(cnt)\n",
    "    #print(x,y,x+w,y+h)\n",
    "\n",
    "    cv2.rectangle(img,(x,y),(x+w,y+h),(0,255,0),2)\n",
    "\n",
    "    digitCnts.append(cnt)\n",
    "\n",
    "    boxes.append(np.array([x,y,x+w,y+h]))\n",
    "\n",
    "#print(len(digitCnts))\n",
    "#\n",
    "#print(digitCnts[0].shape)\n",
    "\n",
    "\n",
    "#print(boxes)\n",
    "#print(len(boxes))\n",
    "\n",
    "#a1,a2,a3,a4,a5,a6 = boxes\n",
    "\n",
    "for i in range(len(boxes)):\n",
    "    newarray = np.stack(boxes, axis=0, out=None)\n",
    "#print(newarray)\n",
    "\n",
    "\n",
    "for cnt in digitCnts:   \n",
    "    x,y,w,h = cv2.boundingRect(cnt)\n",
    "    # perform non-maximum suppression on the bounding boxes\n",
    "    pick = non_max_suppression_fast(newarray, 0.3)\n",
    "\n",
    "print(\"after applying non-maximum,\" + str((len(pick))) + \"bounding boxes\")\n",
    "\n",
    "\n",
    "img_original = img\n",
    "\n",
    "img_nms = img.copy()\n",
    "\n",
    "for (startX, startY, endX, endY) in pick:\n",
    "    cv2.rectangle(img_nms, (startX, startY), (endX, endY), (0, 255, 0), 2)\n"
   ]
  },
  {
   "cell_type": "code",
   "execution_count": 19,
   "metadata": {},
   "outputs": [
    {
     "data": {
      "text/plain": [
       "27"
      ]
     },
     "execution_count": 19,
     "metadata": {},
     "output_type": "execute_result"
    }
   ],
   "source": [
    "# # display the images\n",
    "#cv2.imshow(\"Original Image\", img)\n",
    "#cv2.imshow(\"Original Segmentation\", img)\n",
    "#cv2.imshow(\"After NMS\", img_nms)\n",
    "#cv2.waitKey(0)"
   ]
  },
  {
   "cell_type": "markdown",
   "metadata": {},
   "source": [
    "<!-- <div>\n",
    "<img src=\"generatedimgs/segmentednms2.png\" width=\"600\"/>\n",
    "</div> -->"
   ]
  },
  {
   "cell_type": "code",
   "execution_count": null,
   "metadata": {},
   "outputs": [],
   "source": []
  },
  {
   "cell_type": "code",
   "execution_count": null,
   "metadata": {},
   "outputs": [],
   "source": []
  },
  {
   "cell_type": "code",
   "execution_count": null,
   "metadata": {},
   "outputs": [],
   "source": []
  },
  {
   "cell_type": "code",
   "execution_count": null,
   "metadata": {},
   "outputs": [],
   "source": []
  }
 ],
 "metadata": {
  "kernelspec": {
   "display_name": "Python 3",
   "language": "python",
   "name": "python3"
  },
  "language_info": {
   "codemirror_mode": {
    "name": "ipython",
    "version": 3
   },
   "file_extension": ".py",
   "mimetype": "text/x-python",
   "name": "python",
   "nbconvert_exporter": "python",
   "pygments_lexer": "ipython3",
   "version": "3.8.5"
  }
 },
 "nbformat": 4,
 "nbformat_minor": 4
}
